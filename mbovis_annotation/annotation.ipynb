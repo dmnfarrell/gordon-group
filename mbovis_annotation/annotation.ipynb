{
 "cells": [
  {
   "cell_type": "markdown",
   "metadata": {},
   "source": [
    "## M.bovis/MTB add new product annotations\n",
    "\n",
    "### August 2019\n",
    "\n",
    "This notebook finds all unknown proteins in the mtb genome and annotates in the following steps:\n",
    "\n",
    "* integrate PATRIC, reference and new Doerks annotations in one table\n",
    "* combine the annotation field into one a single column that covers all of them in order of preference\n",
    "* blast remaining unknowns to nr/pdb and take take top coverage hit - is it close enough to use\n",
    "* map mbovis tags to the rv tags and use the new annotations to update Mbovis.\n",
    "* write the new file to embl format\n",
    "\n",
    "References:\n",
    "\n",
    "* Anand P, Sankaran S, Mukherjee S, Yeturu K, Laskowski R, et al. (2011) Structural Annotation of Mycobacterium tuberculosis Proteome. PLOS ONE 6(10): e27044. https://doi.org/10.1371/journal.pone.0027044\n",
    "* Malone, Kerri M et al. “Updated Reference Genome Sequence and Annotation of Mycobacterium bovis AF2122/97” Genome announcements vol. 5,14 e00157-17. 6 Apr. 2017, doi:10.1128/genomeA.00157-17\n",
    "* Doerks T, van Noort V, Minguez P, Bork P (2012) Annotation of the M. tuberculosis Hypothetical Orfeome: Adding Functional Information to More than Half of the Uncharacterized Proteins. PLOS ONE 7(4): e34302. https://doi.org/10.1371/journal.pone.0034302"
   ]
  },
  {
   "cell_type": "markdown",
   "metadata": {},
   "source": [
    "## Links\n",
    "\n",
    "* https://www.ebi.ac.uk/ena/data/view/LT708304\n",
    "* https://www.ebi.ac.uk/cgi-bin/sva/sva.pl?search=Go&amp;query=LT708304\n",
    "* https://www.ncbi.nlm.nih.gov/genome/?term=h37rv\n",
    "* https://mycobrowser.epfl.ch/\n",
    "* https://www.ncbi.nlm.nih.gov/pmc/articles/PMC5383904/"
   ]
  },
  {
   "cell_type": "code",
   "execution_count": 1,
   "metadata": {},
   "outputs": [],
   "source": [
    "import os, math, time, pickle, subprocess\n",
    "from importlib import reload\n",
    "from collections import OrderedDict\n",
    "import numpy as np\n",
    "import pandas as pd\n",
    "pd.set_option('display.width', 140)\n",
    "pd.set_option('display.max_colwidth', 80)\n",
    "\n",
    "from Bio import SeqIO\n",
    "import epitopepredict as ep\n",
    "from epitopepredict import sequtils, utilities\n",
    "from IPython.display import display, HTML, Image\n",
    "%matplotlib inline\n",
    "import matplotlib as mpl\n",
    "import pylab as plt\n",
    "import seaborn as sns\n",
    "sns.set_context(\"paper\", font_scale=1.4)\n",
    "plt.rcParams['savefig.dpi']=130"
   ]
  },
  {
   "cell_type": "code",
   "execution_count": 2,
   "metadata": {},
   "outputs": [],
   "source": [
    "labels=['hypothetical protein','conserved protein','conserved hypothetical','unknown protein','uncharacterized','hypothetical alanine']\n",
    "def find_annotated(x):\n",
    "    for l in labels:\n",
    "        if l in str(x).lower() or x is np.nan:\n",
    "            return False \n",
    "    return True\n",
    "\n",
    "def get_locus_tag(x):\n",
    "    s=str(x).split(' ')\n",
    "    for i in s:\n",
    "        if i.startswith('Rv'):\n",
    "            return i\n",
    "    \n",
    "def get_rv_patric(x):\n",
    "    s=str(x).split('_')    \n",
    "    if len(s)>1:\n",
    "        return 'Rv'+s[1]"
   ]
  },
  {
   "cell_type": "markdown",
   "metadata": {},
   "source": [
    "## summary of current annotations"
   ]
  },
  {
   "cell_type": "code",
   "execution_count": 3,
   "metadata": {},
   "outputs": [
    {
     "name": "stdout",
     "output_type": "stream",
     "text": [
      "Mbovis AF2122/97\n",
      "MTB-H37Rv (Reference)\n",
      "MTB-H37Rv (Broad)\n"
     ]
    },
    {
     "data": {
      "text/html": [
       "<div>\n",
       "<style scoped>\n",
       "    .dataframe tbody tr th:only-of-type {\n",
       "        vertical-align: middle;\n",
       "    }\n",
       "\n",
       "    .dataframe tbody tr th {\n",
       "        vertical-align: top;\n",
       "    }\n",
       "\n",
       "    .dataframe thead th {\n",
       "        text-align: right;\n",
       "    }\n",
       "</style>\n",
       "<table border=\"1\" class=\"dataframe\">\n",
       "  <thead>\n",
       "    <tr style=\"text-align: right;\">\n",
       "      <th></th>\n",
       "      <th>cds with gene names</th>\n",
       "      <th>cds with translations</th>\n",
       "      <th>coding sequences</th>\n",
       "      <th>hypothetical</th>\n",
       "      <th>mean sequence length</th>\n",
       "      <th>no locus tags</th>\n",
       "      <th>pseudogenes</th>\n",
       "      <th>repeat_region</th>\n",
       "      <th>total features</th>\n",
       "      <th>trna</th>\n",
       "    </tr>\n",
       "  </thead>\n",
       "  <tbody>\n",
       "    <tr>\n",
       "      <th>Mbovis AF2122/97</th>\n",
       "      <td>1961</td>\n",
       "      <td>3989</td>\n",
       "      <td>4000</td>\n",
       "      <td>1097</td>\n",
       "      <td>330</td>\n",
       "      <td>33</td>\n",
       "      <td>11</td>\n",
       "      <td>107</td>\n",
       "      <td>8297</td>\n",
       "      <td>45</td>\n",
       "    </tr>\n",
       "    <tr>\n",
       "      <th>MTB-H37Rv (Reference)</th>\n",
       "      <td>1953</td>\n",
       "      <td>4018</td>\n",
       "      <td>4031</td>\n",
       "      <td>1097</td>\n",
       "      <td>333</td>\n",
       "      <td>263</td>\n",
       "      <td>0</td>\n",
       "      <td>262</td>\n",
       "      <td>8541</td>\n",
       "      <td>45</td>\n",
       "    </tr>\n",
       "    <tr>\n",
       "      <th>MTB-H37Rv (Broad)</th>\n",
       "      <td>16</td>\n",
       "      <td>4143</td>\n",
       "      <td>4235</td>\n",
       "      <td>843</td>\n",
       "      <td>320</td>\n",
       "      <td>10</td>\n",
       "      <td>92</td>\n",
       "      <td>2</td>\n",
       "      <td>8582</td>\n",
       "      <td>45</td>\n",
       "    </tr>\n",
       "  </tbody>\n",
       "</table>\n",
       "</div>"
      ],
      "text/plain": [
       "                       cds with gene names  cds with translations  coding sequences  hypothetical  mean sequence length  no locus tags  \\\n",
       "Mbovis AF2122/97                      1961                   3989              4000          1097                   330             33   \n",
       "MTB-H37Rv (Reference)                 1953                   4018              4031          1097                   333            263   \n",
       "MTB-H37Rv (Broad)                       16                   4143              4235           843                   320             10   \n",
       "\n",
       "                       pseudogenes  repeat_region  total features  trna  \n",
       "Mbovis AF2122/97                11            107            8297    45  \n",
       "MTB-H37Rv (Reference)            0            262            8541    45  \n",
       "MTB-H37Rv (Broad)               92              2            8582    45  "
      ]
     },
     "execution_count": 3,
     "metadata": {},
     "output_type": "execute_result"
    }
   ],
   "source": [
    "reload(sequtils)\n",
    "genomes={'Mbovis AF2122/97':'LT708304_updated_25-05-18.embl', #'Mbovis Strain SP38':'Mbovis_ASM93432v3.gb',\n",
    "         'MTB-H37Rv (Reference)':'MTB-H37Rv_AL123456.3.gb',\n",
    "         'MTB-H37Rv (Broad)':'MTB-H37Rv_ASM27773v2.gb'}\n",
    "d={}\n",
    "for g in genomes:\n",
    "    print (g)\n",
    "    if g == 'Mbovis AF2122/97':\n",
    "        df = sequtils.embl_to_dataframe(genomes[g])\n",
    "    else:\n",
    "        df = sequtils.genbank_to_dataframe(genomes[g])\n",
    "    #print (df[:5])  \n",
    "    coding = df[df.type=='CDS']\n",
    "    notrans = coding[coding.translation.isnull()]\n",
    "    #print (notrans[['locus_tag','gene','translation','pseudo']])\n",
    "    s = sequtils.features_summary(df)\n",
    "    #print (df.type.value_counts())\n",
    "    d[g] = s\n",
    "d=pd.DataFrame(d).T\n",
    "cols = ['cds with translations','cds with gene names','hypothetical','pseudogenes']\n",
    "d.to_csv('mtb_genomes_summary.csv')\n",
    "d#[cols]"
   ]
  },
  {
   "cell_type": "code",
   "execution_count": 5,
   "metadata": {},
   "outputs": [],
   "source": [
    "myco=pd.read_csv('mycobrowser_MTB.csv')\n",
    "#print (len(myco))\n",
    "g = (myco.groupby(['Functional_Category','Product']).agg({'locus_tag':np.size}))\n",
    "pc = myco.Functional_Category.value_counts()\n",
    "#print (pc)\n",
    "#ax=pc.plot.pie(figsize=(12,8),fontsize=14,wedgeprops=dict(width=0.5),)\n",
    "#ax.set_title('functional categories of M.Tb proteins (Mycobrowser)',fontsize=22)\n",
    "#plt.tight_layout()\n",
    "#plt.savefig('mtb_functional_cats.png')"
   ]
  },
  {
   "cell_type": "markdown",
   "metadata": {},
   "source": [
    "## Uniprot"
   ]
  },
  {
   "cell_type": "code",
   "execution_count": 6,
   "metadata": {},
   "outputs": [],
   "source": [
    "uniprot = pd.read_csv('uniprot_MTB.csv')\n",
    "uniprot['locus_tag'] = uniprot['Gene names'].apply(lambda x: get_locus_tag(x), 1)\n",
    "uniprot['gene'] = uniprot['Gene names'].apply(lambda x: str(x).split(' ')[0], 1)\n",
    "#uniprot['function'] = uniprot.apply(get_category,1)\n",
    "uniprot = uniprot[['locus_tag','product','Entry','gene']]\n",
    "#print (uniprot[:50])"
   ]
  },
  {
   "cell_type": "markdown",
   "metadata": {},
   "source": [
    "## PATRIC"
   ]
  },
  {
   "cell_type": "code",
   "execution_count": 7,
   "metadata": {},
   "outputs": [
    {
     "name": "stdout",
     "output_type": "stream",
     "text": [
      "4367\n"
     ]
    }
   ],
   "source": [
    "patric=pd.read_csv('patric_MTB-H37Rv.csv')\n",
    "#patric['locus_tag']=patric.refseq_locus_tag.apply(lambda x: get_rv_patric(x),1)\n",
    "print (len(patric))\n",
    "#pu = patric[~patric.locus_tag.isin(mtb.locus_tag)]\n",
    "#pu['AA Length'].hist(bins=30)"
   ]
  },
  {
   "cell_type": "markdown",
   "metadata": {},
   "source": [
    "## Doerks dataset"
   ]
  },
  {
   "cell_type": "code",
   "execution_count": 8,
   "metadata": {},
   "outputs": [
    {
     "name": "stdout",
     "output_type": "stream",
     "text": [
      "543\n"
     ]
    }
   ],
   "source": [
    "doerks = pd.read_csv('doerks.csv')\n",
    "#remove proteins definitions that are too vague\n",
    "doerks =  doerks[~doerks.product_doerks.str.contains('process')]\n",
    "print (len(doerks))"
   ]
  },
  {
   "cell_type": "markdown",
   "metadata": {},
   "source": [
    "## combine annotations from multiple sources"
   ]
  },
  {
   "cell_type": "code",
   "execution_count": 9,
   "metadata": {},
   "outputs": [
    {
     "name": "stdout",
     "output_type": "stream",
     "text": [
      "4030\n",
      "True     2974\n",
      "False    1089\n",
      "Name: ref_annotated, dtype: int64\n"
     ]
    }
   ],
   "source": [
    "reload(sequtils)\n",
    "mtb = sequtils.genbank_to_dataframe('MTB-H37Rv_AL123456.3.gb',cds=True)\n",
    "\n",
    "mtb = mtb.merge(patric,on='locus_tag',how='left',suffixes=['','_patric'])\n",
    "mtb = mtb.merge(myco,on='locus_tag',how='left',suffixes=['','_myco'])\n",
    "mtb = mtb.merge(uniprot, on='locus_tag', how='left',suffixes=['','_uniprot'])\n",
    "mtb = mtb.merge(doerks,on='locus_tag',how='left',suffixes=['','_doerks'])\n",
    "print (len(mtb))\n",
    "\n",
    "mtb['ref_annotated'] = mtb['product'].apply(find_annotated,1)\n",
    "mtb['patric_annotated'] = mtb.product_patric.apply(find_annotated,1)\n",
    "mtb['doerks_annotated'] = ~mtb.product_doerks.isnull()\n",
    "mtb['uniprot_annotated'] = mtb.product_uniprot.apply(find_annotated,1)\n",
    "\n",
    "pmodel = pd.read_csv('journal.pone.0027044.s014.CSV')\n",
    "pmodel['PDB_4'] = pmodel.PDB_ID.apply(lambda x: str(x)[:4].upper(),1)\n",
    "#pmodel.confidence.value_counts()\n",
    "#print (pmodel[:50])\n",
    "mtb = mtb.merge(pmodel,on='locus_tag',how='left')\n",
    "mtb.to_csv('annotations_combined.csv')\n",
    "\n",
    "cols=['locus_tag','product','product_patric']\n",
    "#print (mtb[(mtb.patric_annotated == False) & (mtb.myc_annotated == True)][cols])\n",
    "print (mtb.ref_annotated.value_counts())\n"
   ]
  },
  {
   "cell_type": "markdown",
   "metadata": {},
   "source": [
    "## create final column combining all annotations for unknowns"
   ]
  },
  {
   "cell_type": "code",
   "execution_count": 10,
   "metadata": {},
   "outputs": [
    {
     "name": "stdout",
     "output_type": "stream",
     "text": [
      "True     3625\n",
      "False     438\n",
      "Name: final_annotated, dtype: int64\n"
     ]
    }
   ],
   "source": [
    "def add_annotation(x):\n",
    "    #get annotations in order of preference\n",
    "    if x.ref_annotated is True:\n",
    "        return x['product']        \n",
    "    elif x.patric_annotated is True:\n",
    "        return x.product_patric\n",
    "    elif x.doerks_annotated is True:\n",
    "        return x.product_doerks\n",
    "    elif x.uniprot_annotated is True:\n",
    "        return x.product_uniprot\n",
    "    else:\n",
    "        return x['product']\n",
    "\n",
    "mtb['final'] = mtb.apply(add_annotation,1)\n",
    "#print (mtb.final.value_counts()[:8])\n",
    "#print (mtb['product'].value_counts()[:8])\n",
    "\n",
    "mtb['final_annotated'] = mtb.final.apply(find_annotated,1)\n",
    "print (mtb.final_annotated.value_counts())\n",
    "mtb.to_csv('annotations_combined.csv',index=False)"
   ]
  },
  {
   "cell_type": "markdown",
   "metadata": {},
   "source": [
    "## Blast remaining unknowns to the PDB\n",
    "\n",
    "We use this result at the end to add these missing annotations to the final list."
   ]
  },
  {
   "cell_type": "code",
   "execution_count": 140,
   "metadata": {},
   "outputs": [
    {
     "name": "stdout",
     "output_type": "stream",
     "text": [
      "438\n"
     ]
    }
   ],
   "source": [
    "reload(sequtils)\n",
    "remaining = mtb[(mtb.final_annotated == False)]\n",
    "print (len(remaining))\n",
    "seqs = remaining.translation\n",
    "\n",
    "'''db='pdb'\n",
    "st=time.time()\n",
    "bl=sequtils.blast_sequences(db,seqs,labels=x.locus_tag)\n",
    "bl.to_csv('unknowns_blast_%s.csv' %db,index=False)\n",
    "print (time.time()-st)'''\n",
    "\n",
    "bl=pd.read_csv('unknowns_blast_pdb.csv')\n",
    "\n",
    "def get_best_hits(bl):\n",
    "    cols=['stitle','sseqid','qcovs','pident','length','sseq']\n",
    "    best = bl.sort_values('qcovs',ascending=False).groupby('qseqid').first()[cols]\n",
    "    best = best.sort_values(['qcovs','pident'],ascending=False)\n",
    "    best = best[(best.pident>60) & (best.qcovs>60)]\n",
    "    best=best.reset_index()\n",
    "    return best\n",
    "\n",
    "best = get_best_hits(bl)\n",
    "best.to_csv('unknowns_pdb_hits.csv')\n",
    "#best[:4]"
   ]
  },
  {
   "cell_type": "markdown",
   "metadata": {},
   "source": [
    "## Get Anand HIGH confidence results for remaining unknowns  **not used"
   ]
  },
  {
   "cell_type": "code",
   "execution_count": 424,
   "metadata": {},
   "outputs": [],
   "source": [
    "def get_pdb_descriptions(ids):\n",
    "    import requests\n",
    "    from io import StringIO    \n",
    "    pdbstr = ','.join(ids)\n",
    "    #print (pdbstr)\n",
    "    pdbrest = 'http://www.rcsb.org/pdb/rest/customReport.xml?'\\\n",
    "    'pdbids=%s&customReportColumns=chainLength,uniprotRecommendedName,geneName,taxonomy&service=wsfile&format=csv' %pdbstr\n",
    "    r = requests.get(pdbrest)\n",
    "    data = r.text\n",
    "    #print (data)    \n",
    "    df = pd.read_csv(StringIO(data))    \n",
    "    return df"
   ]
  },
  {
   "cell_type": "code",
   "execution_count": null,
   "metadata": {},
   "outputs": [],
   "source": [
    "#this info wasn't used in the final annotation\n",
    "ids = remaining.PDB_4.dropna()\n",
    "pdb_data = get_pdb_descriptions(ids)\n",
    "pdb_data=pdb_data.drop_duplicates('structureId')\n",
    "x = pmodel.merge(pdb_data,left_on='PDB_4',right_on='structureId',how='inner')\n",
    "x = x[x.confidence=='HIGH']"
   ]
  },
  {
   "cell_type": "markdown",
   "metadata": {},
   "source": [
    "## overlap of unknowns"
   ]
  },
  {
   "cell_type": "code",
   "execution_count": 134,
   "metadata": {},
   "outputs": [
    {
     "name": "stdout",
     "output_type": "stream",
     "text": [
      "543\n"
     ]
    },
    {
     "data": {
      "image/png": "[encoded data removed]",
      "text/plain": [
       "<Figure size 576x576 with 1 Axes>"
      ]
     },
     "metadata": {},
     "output_type": "display_data"
    }
   ],
   "source": [
    "print (len(doerks))\n",
    "pa = mtb[(mtb.patric_annotated == 0)].locus_tag\n",
    "ref = mtb[mtb.ref_annotated == 0].locus_tag\n",
    "do = doerks.locus_tag\n",
    "\n",
    "f,ax=plt.subplots(1,1,figsize=(8,8))\n",
    "utilities.venndiagram([ref,pa,do],['Sanger','PATRIC','Doerks et al.'],ax=ax,colors=['r','b','y'])\n",
    "from matplotlib_venn import venn3_circles\n",
    "c=venn3_circles((set(ref),set(pa),set(do)), linestyle='dashed', linewidth=1, color=\"grey\")\n",
    "\n",
    "ax.set_title('proteins marked as unknown in two annotations with Doerks dataset')\n",
    "#unknown.length.hist(bins=30,lw=1,ec='black',grid=False,figsize=(12,5))\n",
    "#ax.set_title('length distribution of unknown M.tb proteins')\n",
    "\n",
    "plt.savefig('mtb_unknowns.svg')"
   ]
  },
  {
   "cell_type": "markdown",
   "metadata": {},
   "source": [
    "# Mbovis AF2122/97 updates"
   ]
  },
  {
   "cell_type": "markdown",
   "metadata": {},
   "source": [
    "Notes: \n",
    "\n",
    "* current version on INSDC has missing genes, this update should also fix that.\n",
    "* the new genome sequence is PRJEB15187 and has BQ2027 registered at the locus tag prefix\n",
    "\n",
    "#### Changes done by Joe to LT708304.1:\n",
    "\n",
    "* added repeat_regions back\n",
    "* The following genes were present in the original annotation and have been re-inserted.\n",
    "\n",
    "    MB0025\n",
    "    MB0284C\n",
    "    MB0608\n",
    "    MB1408\n",
    "    MB2086\n",
    "    RNPB\n",
    "    SSR\n",
    "\n",
    "We now use the Rv changes to update the Mbovis annotation where locus tags match:\n",
    "\n",
    "* add new products\n",
    "* add new functional categories from doerks paper\n",
    "* add notes to changed features\n",
    "* add a \\old_locus_tag field to all genes"
   ]
  },
  {
   "cell_type": "markdown",
   "metadata": {},
   "source": [
    "## Combine with annotations with Mbovis tags using mapping"
   ]
  },
  {
   "cell_type": "code",
   "execution_count": 11,
   "metadata": {},
   "outputs": [
    {
     "name": "stdout",
     "output_type": "stream",
     "text": [
      "4171\n",
      "611 new products to be added\n"
     ]
    }
   ],
   "source": [
    "mapping = pd.read_csv('mbovis_mapping.csv')\n",
    "def get_new_locus_tag(x):\n",
    "    if x != None:\n",
    "        return 'BQ2027_'+str(x).upper().replace('C','c').replace(' ','')\n",
    "    else:\n",
    "        return ''\n",
    "\n",
    "subcols=['locus_tag','gene_uniprot','gene_myco','final','new_category','ref_annotated','final_annotated','confidence','PDB_ID', 'SCOP_ID','PDB_4']\n",
    "mapping = mapping.merge(mtb[subcols],left_on='Rv_tag',right_on='locus_tag',how='left')\n",
    "print (len(mapping))\n",
    "mapping['locus_tag'] = mapping.Mb_tag.apply(get_new_locus_tag,1)\n",
    "mapping['old_locus_tag'] = mapping.Mb_tag\n",
    "mapping = mapping.drop_duplicates('locus_tag')\n",
    "mapping = mapping.rename(columns={'final':'product'})\n",
    "mapping.to_csv('final_mbovis_mapping.csv',index=False)\n",
    "#print (mapping.locus_tag.value_counts())\n",
    "#print (mapping.ref_annotated.value_counts())\n",
    "#print (mapping.final_annotated.value_counts())\n",
    "\n",
    "#tags with newly added products\n",
    "new_annot = mapping[(mapping.ref_annotated==False) & (mapping.final_annotated==True)]\n",
    "print ('%s new products to be added' %len(new_annot.Mb_tag.unique()))\n",
    "#print (new_annot[['locus_tag','category','product']])\n",
    "new_annot.to_csv('new_products.csv',index=False)"
   ]
  },
  {
   "cell_type": "code",
   "execution_count": 12,
   "metadata": {},
   "outputs": [
    {
     "name": "stderr",
     "output_type": "stream",
     "text": [
      "/usr/local/lib/python3.7/dist-packages/ipykernel_launcher.py:7: SettingWithCopyWarning: \n",
      "A value is trying to be set on a copy of a slice from a DataFrame.\n",
      "Try using .loc[row_indexer,col_indexer] = value instead\n",
      "\n",
      "See the caveats in the documentation: http://pandas.pydata.org/pandas-docs/stable/indexing.html#indexing-view-versus-copy\n",
      "  import sys\n",
      "/usr/local/lib/python3.7/dist-packages/ipykernel_launcher.py:9: SettingWithCopyWarning: \n",
      "A value is trying to be set on a copy of a slice from a DataFrame.\n",
      "Try using .loc[row_indexer,col_indexer] = value instead\n",
      "\n",
      "See the caveats in the documentation: http://pandas.pydata.org/pandas-docs/stable/indexing.html#indexing-view-versus-copy\n",
      "  if __name__ == '__main__':\n"
     ]
    }
   ],
   "source": [
    "def remove_rv(x):\n",
    "    if type(x) is str and x.startswith('Rv'):\n",
    "        return\n",
    "    else:\n",
    "        return x\n",
    "\n",
    "new_annot['gene_uniprot'] = new_annot.gene_uniprot.apply(remove_rv)\n",
    "new_annot.gene_uniprot.value_counts()\n",
    "new_annot['gene'] = new_annot.gene_uniprot"
   ]
  },
  {
   "cell_type": "markdown",
   "metadata": {},
   "source": [
    "## Update qualifiers for the newly annotated hypotheticals"
   ]
  },
  {
   "cell_type": "code",
   "execution_count": 34,
   "metadata": {},
   "outputs": [],
   "source": [
    "def update_features(record, df, field, key='locus_tag', feature_type='CDS', verbose=False):\n",
    "    \"\"\"Use a dataframe to update seqrecord features with new or existing qualifier.\n",
    "    record: input seqrecord with features to update\n",
    "    df: dataframe with new fields matched by key\n",
    "    field: column with new data\n",
    "    key: key to match on\n",
    "    \"\"\"\n",
    "   \n",
    "    from copy import copy\n",
    "    record = copy(record)\n",
    "    index = sequtils.index_genbank_features(record,feature_type,\"locus_tag\")\n",
    "    c=0\n",
    "    print (field,feature_type)\n",
    "    for i,r in df.iterrows():        \n",
    "        t=r[key] \n",
    "        if t not in index:\n",
    "            continue\n",
    "        new = r[field]\n",
    "        #print (new)      \n",
    "        if new is None or new == '' or type(new) is not str:\n",
    "            continue\n",
    "        if verbose is True:\n",
    "            #print (r)\n",
    "            print (t,index[t], new)             \n",
    "        cds = record.features[index[t]]\n",
    "        if field not in cds.qualifiers:\n",
    "            cds.qualifiers[field] = new\n",
    "            c+=1\n",
    "        else:\n",
    "            curr = cds.qualifiers[field][0]            \n",
    "            if new != curr:\n",
    "                cds.qualifiers[field] = new\n",
    "                c+=1\n",
    "            #else:\n",
    "            #    print (curr,new)\n",
    "    print ('updated %s features' %c)\n",
    "    return record\n",
    "\n",
    "def append_note(record, names, note):\n",
    "    \"\"\"add note to features\"\"\"\n",
    "    \n",
    "    index = sequtils.index_genbank_features(record,\"CDS\",\"locus_tag\")  \n",
    "    for t in names:\n",
    "        if t not in index:\n",
    "            continue        \n",
    "        cds = record.features[index[t]]        \n",
    "        curr = cds.qualifiers['note'][0]\n",
    "        cds.qualifiers['note'] = curr + ' ' + note \n",
    "        #print (cds.qualifiers['note'])\n",
    "    return record\n",
    "\n",
    "def fix_pseudo(recs):\n",
    "    for i in recs.features:\n",
    "        if 'pseudo' in i.qualifiers:\n",
    "            i.qualifiers['pseudo'] = None        "
   ]
  },
  {
   "cell_type": "markdown",
   "metadata": {},
   "source": [
    "## Write mbovis to genbank and embl with new feature qualifiers"
   ]
  },
  {
   "cell_type": "code",
   "execution_count": 35,
   "metadata": {},
   "outputs": [
    {
     "name": "stdout",
     "output_type": "stream",
     "text": [
      "611\n",
      "3997\n",
      "product CDS\n",
      "updated 611 features\n",
      "gene CDS\n",
      "updated 69 features\n",
      "gene gene\n",
      "updated 69 features\n",
      "old_locus_tag CDS\n",
      "updated 3986 features\n",
      "product CDS\n",
      "BQ2027_MB0512A 1050 30S small ribosomal subunit\n",
      "BQ2027_MB1992 4128 SecB-like chaperone\n",
      "BQ2027_MB2041 4234 Putative antitoxin VapB45\n",
      "BQ2027_MB2076 4304 RNAP Holo/RbpA/Fidaxomicin/upstream fork DNA\n",
      "BQ2027_MB3932c 8252 necrotizing toxin (TNT)\n",
      "updated 5 features\n"
     ]
    },
    {
     "data": {
      "text/plain": [
       "1"
      ]
     },
     "execution_count": 35,
     "metadata": {},
     "output_type": "execute_result"
    }
   ],
   "source": [
    "reload(sequtils)\n",
    "\n",
    "#print (new_annot.locus_tag[:10])\n",
    "print (len(new_annot))\n",
    "print (len(mapping))\n",
    "\n",
    "#load last previously submitted features from embl file\n",
    "recs = SeqIO.read('LT708304_updated_25-05-18.embl','embl')\n",
    "\n",
    "new = update_features(recs, new_annot, 'product')\n",
    "#update gene names\n",
    "new = update_features(new, new_annot, 'gene')\n",
    "#also gene features\n",
    "new = update_features(new, new_annot, 'gene', feature_type='gene')\n",
    "#add old_locus_tag qualifier to all\n",
    "new = update_features(new, mapping, 'old_locus_tag')\n",
    "\n",
    "#note = \"Updated with new functional annotation from literature.\"\n",
    "#new = append_note(feats, un.locus_tag, note)\n",
    "\n",
    "#add manually edited entries from pdb hits\n",
    "manual = pd.read_csv('manual_edits.csv')\n",
    "new = update_features(new, manual, 'product', verbose=True)\n",
    "#save the final file\n",
    "fix_pseudo(new)\n",
    "SeqIO.write(new, 'new.embl', \"embl\")\n",
    "SeqIO.write(new, 'new.gb', \"genbank\")"
   ]
  },
  {
   "cell_type": "code",
   "execution_count": 31,
   "metadata": {},
   "outputs": [],
   "source": [
    "from BCBio import GFF\n",
    "GFF.write([new], open('new.gff','w'))"
   ]
  },
  {
   "cell_type": "markdown",
   "metadata": {},
   "source": [
    "## Verify new embl file"
   ]
  },
  {
   "cell_type": "code",
   "execution_count": 36,
   "metadata": {},
   "outputs": [
    {
     "name": "stdout",
     "output_type": "stream",
     "text": [
      "{'total features': 8297, 'coding sequences': 4000, 'cds with translations': 3989, 'cds with gene names': 1961, 'hypothetical': 1097, 'pseudogenes': 11, 'trna': 45, 'repeat_region': 107, 'no locus tags': 33, 'mean sequence length': 330}\n",
      "{'total features': 8297, 'coding sequences': 4000, 'cds with translations': 3989, 'cds with gene names': 2026, 'hypothetical': 488, 'pseudogenes': 11, 'trna': 45, 'repeat_region': 107, 'no locus tags': 33, 'mean sequence length': 330}\n",
      "gene              4097\n",
      "CDS               4000\n",
      "repeat_region      107\n",
      "tRNA                45\n",
      "mobile_element      42\n",
      "rRNA                 3\n",
      "misc_RNA             2\n",
      "source               1\n",
      "Name: type, dtype: int64\n",
      "gene              4097\n",
      "CDS               4000\n",
      "repeat_region      107\n",
      "tRNA                45\n",
      "mobile_element      42\n",
      "rRNA                 3\n",
      "misc_RNA             2\n",
      "source               1\n",
      "Name: type, dtype: int64\n"
     ]
    }
   ],
   "source": [
    "reload(sequtils)\n",
    "old = sequtils.embl_to_dataframe('LT708304_updated_25-05-18.embl','embl')\n",
    "new = sequtils.embl_to_dataframe('new.embl','embl')\n",
    "print (sequtils.features_summary(old))\n",
    "print (sequtils.features_summary(new))\n",
    "print (old.type.value_counts())\n",
    "print (new.type.value_counts())"
   ]
  },
  {
   "cell_type": "markdown",
   "metadata": {},
   "source": [
    "## patric extra genes not in reference mbovis"
   ]
  },
  {
   "cell_type": "code",
   "execution_count": null,
   "metadata": {},
   "outputs": [],
   "source": [
    "patric_mb=pd.read_csv('patric_Mbovis.csv')\n",
    "new_patric = patric_mb[patric_mb.locus_tag.isnull()]\n",
    "print (new_patric[:4])\n",
    "#print (len(new_patric))\n",
    "df=sequtils.fasta_to_dataframe('patric_Mbovis.faa')\n",
    "df['id'] = df.locus_tag.apply(lambda x: x.split('_Mb')[0].replace('_','|'),1)\n",
    "#df[:5]\n",
    "df=df[df.id.isin(new_patric['PATRIC ID'])]\n",
    "#print (df)\n",
    "#pbl=sequtils.blast_sequences('swissprot',df.translation,labels=df.locus_tag)\n",
    "#pbl.to_csv('new_patric_blast_swissprot.csv')"
   ]
  },
  {
   "cell_type": "code",
   "execution_count": null,
   "metadata": {},
   "outputs": [],
   "source": []
  }
 ],
 "metadata": {
  "kernelspec": {
   "display_name": "Python 3",
   "language": "python",
   "name": "python3"
  },
  "language_info": {
   "codemirror_mode": {
    "name": "ipython",
    "version": 3
   },
   "file_extension": ".py",
   "mimetype": "text/x-python",
   "name": "python",
   "nbconvert_exporter": "python",
   "pygments_lexer": "ipython3",
   "version": "3.7.3"
  }
 },
 "nbformat": 4,
 "nbformat_minor": 2
}

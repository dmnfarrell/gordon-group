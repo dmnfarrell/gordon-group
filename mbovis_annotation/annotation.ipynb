{
 "cells": [
  {
   "cell_type": "markdown",
   "metadata": {},
   "source": [
    "## M.bovis/MTB add new product annotations\n",
    "\n",
    "### August 2019\n",
    "\n",
    "This notebook finds all unknown proteins in the mtb genome and annotates in the following steps:\n",
    "\n",
    "* integrate PATRIC, reference and new Doerks annotations in one table\n",
    "* combine the annotation field into one a single column that covers all of them in order of preference\n",
    "* blast remaining unknowns to nr/pdb and take take top coverage hit - is it close enough to use\n",
    "* map mbovis tags to the rv tags and use the new annotations to update Mbovis.\n",
    "* write the new file to embl format\n",
    "\n",
    "References:\n",
    "\n",
    "* Anand P, Sankaran S, Mukherjee S, Yeturu K, Laskowski R, et al. (2011) Structural Annotation of Mycobacterium tuberculosis Proteome. PLOS ONE 6(10): e27044. https://doi.org/10.1371/journal.pone.0027044\n",
    "* Malone, Kerri M et al. “Updated Reference Genome Sequence and Annotation of Mycobacterium bovis AF2122/97” Genome announcements vol. 5,14 e00157-17. 6 Apr. 2017, doi:10.1128/genomeA.00157-17\n",
    "* Doerks T, van Noort V, Minguez P, Bork P (2012) Annotation of the M. tuberculosis Hypothetical Orfeome: Adding Functional Information to More than Half of the Uncharacterized Proteins. PLOS ONE 7(4): e34302. https://doi.org/10.1371/journal.pone.0034302"
   ]
  },
  {
   "cell_type": "markdown",
   "metadata": {},
   "source": [
    "## Links\n",
    "\n",
    "* https://www.ebi.ac.uk/ena/data/view/LT708304\n",
    "* https://www.ebi.ac.uk/cgi-bin/sva/sva.pl?search=Go&amp;query=LT708304\n",
    "* https://www.ncbi.nlm.nih.gov/genome/?term=h37rv\n",
    "* https://mycobrowser.epfl.ch/\n",
    "* https://www.ncbi.nlm.nih.gov/pmc/articles/PMC5383904/"
   ]
  },
  {
   "cell_type": "code",
   "execution_count": 112,
   "metadata": {},
   "outputs": [],
   "source": [
    "import os, math, time, pickle, subprocess\n",
    "from importlib import reload\n",
    "from collections import OrderedDict\n",
    "import numpy as np\n",
    "import pandas as pd\n",
    "pd.set_option('display.width', 120)\n",
    "pd.set_option('display.max_colwidth', 80)\n",
    "\n",
    "from Bio import SeqIO\n",
    "import epitopepredict as ep\n",
    "from epitopepredict import sequtils, utilities\n",
    "from IPython.display import display, HTML, Image\n",
    "%matplotlib inline\n",
    "import matplotlib as mpl\n",
    "import pylab as plt\n",
    "import seaborn as sns\n",
    "sns.set_context(\"paper\", font_scale=1.4)\n",
    "plt.rcParams['savefig.dpi']=130"
   ]
  },
  {
   "cell_type": "code",
   "execution_count": 113,
   "metadata": {},
   "outputs": [],
   "source": [
    "labels=['hypothetical protein','conserved protein','conserved hypothetical','unknown protein','uncharacterized','hypothetical alanine']\n",
    "def find_annotated(x):\n",
    "    for l in labels:\n",
    "        if l in str(x).lower() or x is np.nan:\n",
    "            return False \n",
    "    return True\n",
    "\n",
    "def get_locus_tag(x):\n",
    "    s=str(x).split(' ')\n",
    "    #print (n)\n",
    "    for i in s:\n",
    "        if i.startswith('Rv'):\n",
    "            return i\n",
    "    \n",
    "def get_rv_patric(x):\n",
    "    s=str(x).split('_')    \n",
    "    if len(s)>1:\n",
    "        return 'Rv'+s[1]"
   ]
  },
  {
   "cell_type": "code",
   "execution_count": 114,
   "metadata": {},
   "outputs": [],
   "source": [
    "reload(sequtils)\n",
    "mtb = sequtils.genbank_to_dataframe('MTB-H37Rv_AL123456.3.gb',cds=True)\n",
    "broad = sequtils.genbank_to_dataframe('MTB-H37Rv_ASM27773v2.gb',cds=True)"
   ]
  },
  {
   "cell_type": "markdown",
   "metadata": {},
   "source": [
    "## summary of current annotations"
   ]
  },
  {
   "cell_type": "code",
   "execution_count": 115,
   "metadata": {},
   "outputs": [
    {
     "name": "stdout",
     "output_type": "stream",
     "text": [
      "Mbovis AF2122/97\n",
      "MTB-H37Rv (Reference)\n",
      "MTB-H37Rv (Broad)\n"
     ]
    },
    {
     "data": {
      "text/html": [
       "<div>\n",
       "<style scoped>\n",
       "    .dataframe tbody tr th:only-of-type {\n",
       "        vertical-align: middle;\n",
       "    }\n",
       "\n",
       "    .dataframe tbody tr th {\n",
       "        vertical-align: top;\n",
       "    }\n",
       "\n",
       "    .dataframe thead th {\n",
       "        text-align: right;\n",
       "    }\n",
       "</style>\n",
       "<table border=\"1\" class=\"dataframe\">\n",
       "  <thead>\n",
       "    <tr style=\"text-align: right;\">\n",
       "      <th></th>\n",
       "      <th>cds with gene names</th>\n",
       "      <th>cds with translations</th>\n",
       "      <th>coding sequences</th>\n",
       "      <th>hypothetical</th>\n",
       "      <th>mean sequence length</th>\n",
       "      <th>no locus tags</th>\n",
       "      <th>pseudogenes</th>\n",
       "      <th>total features</th>\n",
       "      <th>trna</th>\n",
       "    </tr>\n",
       "  </thead>\n",
       "  <tbody>\n",
       "    <tr>\n",
       "      <th>Mbovis AF2122/97</th>\n",
       "      <td>1961</td>\n",
       "      <td>3989</td>\n",
       "      <td>4000</td>\n",
       "      <td>1097</td>\n",
       "      <td>330</td>\n",
       "      <td>33</td>\n",
       "      <td>11</td>\n",
       "      <td>8297</td>\n",
       "      <td>45</td>\n",
       "    </tr>\n",
       "    <tr>\n",
       "      <th>MTB-H37Rv (Reference)</th>\n",
       "      <td>1953</td>\n",
       "      <td>4018</td>\n",
       "      <td>4031</td>\n",
       "      <td>1097</td>\n",
       "      <td>333</td>\n",
       "      <td>263</td>\n",
       "      <td>0</td>\n",
       "      <td>8541</td>\n",
       "      <td>45</td>\n",
       "    </tr>\n",
       "    <tr>\n",
       "      <th>MTB-H37Rv (Broad)</th>\n",
       "      <td>16</td>\n",
       "      <td>4143</td>\n",
       "      <td>4235</td>\n",
       "      <td>843</td>\n",
       "      <td>320</td>\n",
       "      <td>10</td>\n",
       "      <td>92</td>\n",
       "      <td>8582</td>\n",
       "      <td>45</td>\n",
       "    </tr>\n",
       "  </tbody>\n",
       "</table>\n",
       "</div>"
      ],
      "text/plain": [
       "                       cds with gene names  cds with translations  coding sequences  hypothetical  \\\n",
       "Mbovis AF2122/97                      1961                   3989              4000          1097   \n",
       "MTB-H37Rv (Reference)                 1953                   4018              4031          1097   \n",
       "MTB-H37Rv (Broad)                       16                   4143              4235           843   \n",
       "\n",
       "                       mean sequence length  no locus tags  pseudogenes  total features  trna  \n",
       "Mbovis AF2122/97                        330             33           11            8297    45  \n",
       "MTB-H37Rv (Reference)                   333            263            0            8541    45  \n",
       "MTB-H37Rv (Broad)                       320             10           92            8582    45  "
      ]
     },
     "execution_count": 115,
     "metadata": {},
     "output_type": "execute_result"
    }
   ],
   "source": [
    "reload(sequtils)\n",
    "genomes={'Mbovis AF2122/97':'LT708304_updated_25-05-18.embl', #'Mbovis Strain SP38':'Mbovis_ASM93432v3.gb',\n",
    "         'MTB-H37Rv (Reference)':'MTB-H37Rv_AL123456.3.gb',\n",
    "         'MTB-H37Rv (Broad)':'MTB-H37Rv_ASM27773v2.gb'}\n",
    "d={}\n",
    "for g in genomes:\n",
    "    print (g)\n",
    "    if g == 'Mbovis AF2122/97':\n",
    "        df = sequtils.embl_to_dataframe(genomes[g])\n",
    "    else:\n",
    "        df = sequtils.genbank_to_dataframe(genomes[g])\n",
    "    #print (df[:5])  \n",
    "    coding = df[df.type=='CDS']\n",
    "    notrans = coding[coding.translation.isnull()]\n",
    "    #print (notrans[['locus_tag','gene','translation','pseudo']])\n",
    "    s = sequtils.features_summary(df)\n",
    "    #print (df.type.value_counts())\n",
    "    d[g] = s\n",
    "d=pd.DataFrame(d).T\n",
    "cols = ['cds with translations','cds with gene names','hypothetical','pseudogenes']\n",
    "d.to_csv('mtb_genomes_summary.csv')\n",
    "d#[cols]"
   ]
  },
  {
   "cell_type": "code",
   "execution_count": 256,
   "metadata": {},
   "outputs": [
    {
     "name": "stdout",
     "output_type": "stream",
     "text": [
      "4054\n",
      "conserved hypotheticals                    1049\n",
      "intermediary metabolism and respiration     932\n",
      "cell wall and cell processes                763\n",
      "lipid metabolism                            267\n",
      "information pathways                        242\n",
      "virulence, detoxification, adaptation       237\n",
      "regulatory proteins                         196\n",
      "PE/PPE                                      165\n",
      "insertion seqs and phages                   111\n",
      "stable RNAs                                  80\n",
      "unknown                                      12\n",
      "Name: Functional_Category, dtype: int64\n"
     ]
    }
   ],
   "source": [
    "myco=pd.read_csv('mycobrowser_MTB.csv',sep='\\t')\n",
    "print (len(myco))\n",
    "g = (myco.groupby(['Functional_Category','Product']).agg({'locus_tag':np.size}))\n",
    "pc = myco.Functional_Category.value_counts()\n",
    "print (pc)\n",
    "#ax=pc.plot.pie(figsize=(12,8),fontsize=14,wedgeprops=dict(width=0.5),)\n",
    "#ax.set_title('functional categories of M.Tb proteins (Mycobrowser)',fontsize=22)\n",
    "#plt.tight_layout()\n",
    "#plt.savefig('mtb_functional_cats.png')"
   ]
  },
  {
   "cell_type": "markdown",
   "metadata": {},
   "source": [
    "## Uniprot"
   ]
  },
  {
   "cell_type": "code",
   "execution_count": 372,
   "metadata": {},
   "outputs": [
    {
     "name": "stdout",
     "output_type": "stream",
     "text": [
      "   locus_tag                                                                          product   Entry\n",
      "0    Rv3903c  Outer membrane channel protein CpnT (Channel protein with necrosis-inducing ...  O05442\n",
      "1     Rv3875                                  6 kDa early secretory antigenic target (ESAT-6)  P9WNK7\n",
      "2     Rv1484  Enoyl-[acyl-carrier-protein] reductase [NADH] (ENR) (Enoyl-ACP reductase) (E...  P9WGR1\n",
      "3     Rv3790  Decaprenylphosphoryl-beta-D-ribose oxidase (EC 1.1.98.3) (Decaprenylphospho-...  P9WJF1\n",
      "4    Rv0014c                               Serine/threonine-protein kinase PknB (EC 2.7.11.1)  P9WI81\n",
      "5    Rv3132c        Oxygen sensor histidine kinase response regulator DevS/DosS (EC 2.7.13.3)  P9WGK3\n",
      "6     Rv0006         DNA gyrase subunit A (EC 5.99.1.3) (Type IIA topoisomerase subunit GyrA)  P9WG47\n",
      "7     Rv3874  ESAT-6-like protein EsxB (10 kDa culture filtrate antigen CFP-10) (CFP-10) (...  P9WNK5\n",
      "8    Rv1818c                                                 PE-PGRS family protein PE_PGRS33  P9WIF5\n",
      "9    Rv1908c                    Catalase-peroxidase (CP) (EC 1.11.1.21) (Peroxidase/catalase)  P9WIE5\n",
      "10   Rv3133c                                  DNA-binding transcriptional activator DevR/DosR  P9WMF9\n",
      "11    Rv3763  Lipoprotein LpqH (19 kDa lipoprotein antigen) (Putative transporter LpqH) (p19)  P9WK61\n",
      "12   Rv2031c      Alpha-crystallin (Acr) (14 kDa antigen) (16 kDa antigen) (HSP 16.3) (Nox16)  P9WMK1\n",
      "13   Rv2109c  Proteasome subunit alpha (EC 3.4.25.1) (20S proteasome alpha subunit) (Prote...  P9WHU1\n",
      "14   Rv2068c                      Beta-lactamase (EC 3.5.2.6) (Ambler class A beta-lactamase)  P9WKD3\n",
      "15   Rv2110c  Proteasome subunit beta (EC 3.4.25.1) (20S proteasome beta subunit) (Proteas...  P9WHT9\n",
      "16    Rv0934  Phosphate-binding protein PstS 1 (PBP 1) (PhoS1) (PstS-1) (38-kDa glycolipop...  P9WGU1\n",
      "17   Rv1411c  Lipoarabinomannan carrier protein LprG (27 kDa lipoprotein) (Antigen P27) (L...  P9WK45\n",
      "18    Rv0005                                               DNA gyrase subunit B (EC 5.99.1.3)  P9WG45\n",
      "19   Rv3616c                                          ESX-1 secretion-associated protein EspA  P9WJE1\n"
     ]
    }
   ],
   "source": [
    "uniprot = pd.read_csv('uniprot_MTB.csv')\n",
    "uniprot['locus_tag'] = uniprot['Gene names'].apply(lambda x: get_locus_tag(x), 1)\n",
    "#uniprot['function'] = uniprot.apply(get_category,1)\n",
    "uniprot = uniprot[['locus_tag','product','Entry']]\n",
    "print (uniprot[:20])"
   ]
  },
  {
   "cell_type": "markdown",
   "metadata": {},
   "source": [
    "## PATRIC"
   ]
  },
  {
   "cell_type": "code",
   "execution_count": 118,
   "metadata": {},
   "outputs": [
    {
     "name": "stdout",
     "output_type": "stream",
     "text": [
      "4367\n"
     ]
    }
   ],
   "source": [
    "patric=pd.read_csv('patric_MTB-H37Rv.csv')\n",
    "#patric['locus_tag']=patric.refseq_locus_tag.apply(lambda x: get_rv_patric(x),1)\n",
    "print (len(patric))\n",
    "pu = patric[~patric.locus_tag.isin(mtb.locus_tag)]\n",
    "#pu['AA Length'].hist(bins=30)"
   ]
  },
  {
   "cell_type": "markdown",
   "metadata": {},
   "source": [
    "## combine annotations from multiple sources"
   ]
  },
  {
   "cell_type": "code",
   "execution_count": 373,
   "metadata": {},
   "outputs": [
    {
     "name": "stdout",
     "output_type": "stream",
     "text": [
      "3896\n",
      "True     2916\n",
      "False    1013\n",
      "Name: ref_annotated, dtype: int64\n"
     ]
    }
   ],
   "source": [
    "reload(sequtils)\n",
    "mtb = sequtils.genbank_to_dataframe('MTB-H37Rv_AL123456.3.gb',cds=True)\n",
    "\n",
    "mtb = mtb.merge(patric,on='locus_tag',how='inner',suffixes=['','_patric'])\n",
    "mtb = mtb.merge(myco,on='locus_tag',how='left',suffixes=['','_myco'])\n",
    "mtb = mtb.merge(uniprot, on='locus_tag', how='left',suffixes=['','_uniprot'])\n",
    "doerks = pd.read_csv('doerks.csv')\n",
    "mtb = mtb.merge(doerks,on='locus_tag',how='left',suffixes=['','_doerks'])\n",
    "print (len(mtb))\n",
    "\n",
    "mtb['ref_annotated'] = mtb['product'].apply(find_annotated,1)\n",
    "mtb['patric_annotated'] = mtb.product_patric.apply(find_annotated,1)\n",
    "mtb['doerks_annotated'] = ~mtb.product_doerks.isnull()\n",
    "mtb['uniprot_annotated'] = mtb.product_uniprot.apply(find_annotated,1)\n",
    "\n",
    "pmodel = pd.read_csv('journal.pone.0027044.s014.CSV')\n",
    "pmodel['PDB_4'] = pmodel.PDB_ID.apply(lambda x: str(x)[:4].upper(),1)\n",
    "#pmodel.confidence.value_counts()\n",
    "#print (pmodel[:50])\n",
    "mtb = mtb.merge(pmodel,on='locus_tag',how='left')\n",
    "mtb.to_csv('annotations_combined.csv')\n",
    "\n",
    "cols=['locus_tag','product','product_patric']\n",
    "#print (mtb[(mtb.patric_annotated == False) & (mtb.myc_annotated == True)][cols])\n",
    "print (mtb.ref_annotated.value_counts())\n"
   ]
  },
  {
   "cell_type": "markdown",
   "metadata": {},
   "source": [
    "## create final column combining all annotations for unknowns"
   ]
  },
  {
   "cell_type": "code",
   "execution_count": 374,
   "metadata": {},
   "outputs": [
    {
     "name": "stdout",
     "output_type": "stream",
     "text": [
      "True     3597\n",
      "False     332\n",
      "Name: final_annotated, dtype: int64\n"
     ]
    }
   ],
   "source": [
    "def add_annotation(x):\n",
    "    #get annotations in order of preference\n",
    "    if x.ref_annotated is True:\n",
    "        return x['product']        \n",
    "    elif x.patric_annotated is True:\n",
    "        return x.product_patric\n",
    "    elif x.doerks_annotated is True:\n",
    "        return x.product_doerks\n",
    "    elif x.uniprot_annotated is True:\n",
    "        return x.product_uniprot\n",
    "    else:\n",
    "        return x['product']\n",
    "\n",
    "mtb['final'] = mtb.apply(add_annotation,1)\n",
    "#print (mtb.final.value_counts()[:8])\n",
    "#print (mtb['product'].value_counts()[:8])\n",
    "\n",
    "mtb['final_annotated'] = mtb.final.apply(find_annotated,1)\n",
    "print (mtb.final_annotated.value_counts())\n",
    "mtb.to_csv('annotations_combined.csv',index=False)"
   ]
  },
  {
   "cell_type": "markdown",
   "metadata": {},
   "source": [
    "## Blast remaining unknowns to the PDB\n",
    "\n",
    "We use this result at the end to add these missing annotations to the final list."
   ]
  },
  {
   "cell_type": "code",
   "execution_count": 280,
   "metadata": {},
   "outputs": [
    {
     "name": "stdout",
     "output_type": "stream",
     "text": [
      "350\n"
     ]
    }
   ],
   "source": [
    "reload(sequtils)\n",
    "remaining = mtb[(mtb.final_annotated == False)]\n",
    "print (len(remaining))\n",
    "seqs = remaining.translation\n",
    "\n",
    "'''db='pdb'\n",
    "st=time.time()\n",
    "bl=sequtils.blast_sequences(db,seqs,labels=x.locus_tag)\n",
    "bl.to_csv('unknowns_blast_%s.csv' %db,index=False)\n",
    "print (time.time()-st)'''\n",
    "\n",
    "bl=pd.read_csv('unknowns_blast_pdb.csv')\n",
    "\n",
    "def get_best_hits(bl):\n",
    "    cols=['stitle','sseqid','qcovs','pident','length','sseq']\n",
    "    best = bl.sort_values('qcovs',ascending=False).groupby('qseqid').first()[cols]\n",
    "    best = best.sort_values(['qcovs','pident'],ascending=False)\n",
    "    best = best[(best.pident>60) & (best.qcovs>60)]\n",
    "    best=best.reset_index()\n",
    "    return best\n",
    "\n",
    "best = get_best_hits(bl)\n",
    "best.to_csv('unknowns_pdb_hits.csv')\n",
    "#best[:4]"
   ]
  },
  {
   "cell_type": "markdown",
   "metadata": {},
   "source": [
    "## Get Anand HIGH confidence results for remaining unknowns  **not used"
   ]
  },
  {
   "cell_type": "code",
   "execution_count": 293,
   "metadata": {},
   "outputs": [],
   "source": [
    "def get_pdb_descriptions(ids):\n",
    "    import requests\n",
    "    from io import StringIO\n",
    "    res=[]    \n",
    "    pdbstr = ','.join(ids)\n",
    "    #print (pdbstr)\n",
    "    pdbrest = 'http://www.rcsb.org/pdb/rest/customReport.xml?pdbids=%s&customReportColumns=chainLength,uniprotRecommendedName,geneName,taxonomy&service=wsfile&format=csv' %pdbstr\n",
    "    r = requests.get(pdbrest)\n",
    "    data = r.text\n",
    "    #print (data)    \n",
    "    df = pd.read_csv(StringIO(data))\n",
    "    res.append(df)    \n",
    "    return pd.concat(res)"
   ]
  },
  {
   "cell_type": "code",
   "execution_count": null,
   "metadata": {},
   "outputs": [],
   "source": [
    "ids = remaining.PDB_4.dropna()\n",
    "pdb_data = get_pdb_descriptions(ids)\n",
    "pdb_data=pdb_data.drop_duplicates('structureId')\n",
    "x = pmodel.merge(pdb_data,left_on='PDB_4',right_on='structureId',how='inner')\n",
    "x = x[x.confidence=='HIGH']\n",
    "x"
   ]
  },
  {
   "cell_type": "markdown",
   "metadata": {},
   "source": [
    "## overlap of unknowns"
   ]
  },
  {
   "cell_type": "code",
   "execution_count": 375,
   "metadata": {},
   "outputs": [
    {
     "name": "stdout",
     "output_type": "stream",
     "text": [
      "605\n"
     ]
    },
    {
     "name": "stderr",
     "output_type": "stream",
     "text": [
      "/usr/local/lib/python3.7/dist-packages/matplotlib_venn/_venn3.py:117: UserWarning: Bad circle positioning\n",
      "  warnings.warn(\"Bad circle positioning\")\n"
     ]
    },
    {
     "data": {
      "image/png": "[encoded data removed]",
      "text/plain": [
       "<Figure size 576x576 with 1 Axes>"
      ]
     },
     "metadata": {},
     "output_type": "display_data"
    }
   ],
   "source": [
    "print (len(doerks))\n",
    "pa = mtb[(mtb.patric_annotated == 0)].locus_tag\n",
    "ref = mtb[mtb.ref_annotated == 0].locus_tag\n",
    "do = doerks.locus_tag\n",
    "\n",
    "f,ax=plt.subplots(1,1,figsize=(8,8))\n",
    "utilities.venndiagram([ref,pa,do],['Sanger','PATRIC','Doerks et al.'],ax=ax,colors=['r','b','y'])\n",
    "from matplotlib_venn import venn3_circles\n",
    "c=venn3_circles((set(ref),set(pa),set(do)), linestyle='dashed', linewidth=1, color=\"grey\")\n",
    "\n",
    "ax.set_title('proteins marked as unknown in two annotations with Doerks dataset')\n",
    "#unknown.length.hist(bins=30,lw=1,ec='black',grid=False,figsize=(12,5))\n",
    "#ax.set_title('length distribution of unknown M.tb proteins')\n",
    "\n",
    "plt.savefig('mtb_unknowns.svg')"
   ]
  },
  {
   "cell_type": "markdown",
   "metadata": {},
   "source": [
    "# Mbovis AF2122/97 updates"
   ]
  },
  {
   "cell_type": "markdown",
   "metadata": {},
   "source": [
    "Notes: \n",
    "\n",
    "* current version on INSDC has missing genes, this update should also fix that.\n",
    "* the new genome sequence is PRJEB15187 and has BQ2027 registered at the locus tag prefix\n",
    "\n",
    "#### Changes done by Joe to LT708304.1:\n",
    "\n",
    "* added repeat_regions back\n",
    "* The following genes were present in the original annotation and have been re-inserted.\n",
    "\n",
    "    MB0025\n",
    "    MB0284C\n",
    "    MB0608\n",
    "    MB1408\n",
    "    MB2086\n",
    "    RNPB\n",
    "    SSR\n",
    "\n",
    "We now use the Rv changes to update the Mbovis annotation where locus tags match:\n",
    "\n",
    "* add new products\n",
    "* add new functional categories from doerks paper\n",
    "* add notes to changed features\n",
    "* add a \\old_locus_tag field to all genes"
   ]
  },
  {
   "cell_type": "markdown",
   "metadata": {},
   "source": [
    "## Combine with annotations with Mbovis tags using mapping"
   ]
  },
  {
   "cell_type": "code",
   "execution_count": 376,
   "metadata": {},
   "outputs": [
    {
     "name": "stdout",
     "output_type": "stream",
     "text": [
      "4161\n",
      "640 new products to be added\n"
     ]
    }
   ],
   "source": [
    "mapping = pd.read_csv('mbovis_mapping.csv')\n",
    "def get_new_locus_tag(x):\n",
    "    if x != None:\n",
    "        return 'BQ2027_'+str(x).upper().replace('C','c').replace(' ','')\n",
    "    else:\n",
    "        return ''\n",
    "\n",
    "subcols=['locus_tag','final','new_category','ref_annotated','final_annotated','confidence','PDB_ID', 'SCOP_ID','PDB_4']\n",
    "mapping = mapping.merge(mtb[subcols],left_on='Rv_tag',right_on='locus_tag',how='left')\n",
    "print (len(mapping))\n",
    "mapping['locus_tag'] = mapping.Mb_tag.apply(get_new_locus_tag,1)\n",
    "mapping['old_locus_tag'] = mapping.Mb_tag\n",
    "mapping = mapping.drop_duplicates('locus_tag')\n",
    "mapping = mapping.rename(columns={'final':'product'})\n",
    "mapping.to_csv('final_mbovis_mapping.csv',index=False)\n",
    "#print (mapping.locus_tag.value_counts())\n",
    "#print (mapping.ref_annotated.value_counts())\n",
    "#print (mapping.final_annotated.value_counts())\n",
    "\n",
    "#tags with newly added products\n",
    "new_annot = mapping[(mapping.ref_annotated==False) & (mapping.final_annotated==True)]\n",
    "print ('%s new products to be added' %len(new_annot.Mb_tag.unique()))\n",
    "#print (new_annot[['locus_tag','category','product']])\n",
    "new_annot.to_csv('new_products.csv',index=False)"
   ]
  },
  {
   "cell_type": "markdown",
   "metadata": {},
   "source": [
    "## Check from last updated embl file"
   ]
  },
  {
   "cell_type": "code",
   "execution_count": 211,
   "metadata": {},
   "outputs": [
    {
     "data": {
      "text/plain": [
       "{'total features': 8297,\n",
       " 'coding sequences': 4000,\n",
       " 'cds with translations': 3989,\n",
       " 'cds with gene names': 1961,\n",
       " 'hypothetical': 1097,\n",
       " 'pseudogenes': 11,\n",
       " 'trna': 45,\n",
       " 'no locus tags': 33,\n",
       " 'mean sequence length': 330}"
      ]
     },
     "execution_count": 211,
     "metadata": {},
     "output_type": "execute_result"
    }
   ],
   "source": [
    "reload(sequtils)\n",
    "old = sequtils.embl_to_dataframe('LT708304_updated_25-05-18.embl','embl')\n",
    "sequtils.features_summary(old)\n",
    "#print (old.type.value_counts())"
   ]
  },
  {
   "cell_type": "markdown",
   "metadata": {},
   "source": [
    "## Update qualifiers for the newly annotated hypotheticals"
   ]
  },
  {
   "cell_type": "code",
   "execution_count": 381,
   "metadata": {},
   "outputs": [],
   "source": [
    "def update_features(record, df, field, key='locus_tag', verbose=False):\n",
    "    \"\"\"Use a dataframe to update seqrecord features with new or existing qualifier.\n",
    "    record: input seqrecord with features to update\n",
    "    df: dataframe with new fields matched by key\n",
    "    field: column with new data\n",
    "    key: key to match on\n",
    "    \"\"\"\n",
    "\n",
    "    index = sequtils.index_genbank_features(record,\"CDS\",\"locus_tag\")    \n",
    "    c=0\n",
    "    #print (df)\n",
    "    for i,r in df.iterrows():        \n",
    "        t=r[key] \n",
    "        if t not in index:\n",
    "            continue\n",
    "        if verbose is True:\n",
    "            print (r)\n",
    "            print (t,index[t])\n",
    "        new = r[field]\n",
    "        #print (new)\n",
    "        if new == '' or type(new) is not str:\n",
    "            continue\n",
    "        cds = record.features[index[t]]\n",
    "        if field not in cds.qualifiers:\n",
    "            cds.qualifiers[field] = new\n",
    "            c+=1\n",
    "        else:\n",
    "            curr = cds.qualifiers[field][0]\n",
    "            #print (curr,new)\n",
    "            if new != curr:\n",
    "                cds.qualifiers[field] = new\n",
    "                c+=1\n",
    "    print ('updated %s features' %c)\n",
    "    return record\n",
    "\n",
    "def append_note(record, names, note):\n",
    "    \"\"\"add note to features\"\"\"\n",
    "    \n",
    "    index = sequtils.index_genbank_features(record,\"CDS\",\"locus_tag\")  \n",
    "    for t in names:\n",
    "        if t not in index:\n",
    "            continue        \n",
    "        cds = record.features[index[t]]        \n",
    "        curr = cds.qualifiers['note'][0]\n",
    "        cds.qualifiers['note'] = curr + ' ' + note \n",
    "        #print (cds.qualifiers['note'])\n",
    "    return record\n"
   ]
  },
  {
   "cell_type": "markdown",
   "metadata": {},
   "source": [
    "## Write mbovis to genbank and embl with new feature qualifiers"
   ]
  },
  {
   "cell_type": "code",
   "execution_count": 382,
   "metadata": {},
   "outputs": [
    {
     "name": "stdout",
     "output_type": "stream",
     "text": [
      "640\n",
      "3997\n",
      "updated 640 features\n",
      "updated 3986 features\n",
      "Rv_tag                                                                               Rv0500B\n",
      "locus_tag                                                                     BQ2027_MB0512A\n",
      "product                                                          30S small ribosomal subunit\n",
      "stitle       Chain B, Structure of the 30S small ribosomal subunit from Mycobacterium sme...\n",
      "sseqid                                                              gi|1216873794|pdb|5O5J|B\n",
      "qcovs                                                                                    100\n",
      "pident                                                                                   100\n",
      "length                                                                                    33\n",
      "Name: 0, dtype: object\n",
      "BQ2027_MB0512A 1050\n",
      "Rv_tag                           Rv1738\n",
      "locus_tag                 BQ2027_MB1767\n",
      "product                             NaN\n",
      "stitle       Chain A, protein DL-Rv1738\n",
      "sseqid          gi|770386444|pdb|4WSP|A\n",
      "qcovs                               100\n",
      "pident                              100\n",
      "length                               94\n",
      "Name: 1, dtype: object\n",
      "BQ2027_MB1767 3670\n",
      "Rv_tag                                                                                Rv1957\n",
      "locus_tag                                                                      BQ2027_MB1992\n",
      "product                                                                 SecB-like chaperone \n",
      "stitle       Chain C, Mycobacterium tuberculosis Rv1957 SecB-like chaperone in complex wi...\n",
      "sseqid                                                              gi|1498802388|pdb|5MTW|C\n",
      "qcovs                                                                                    100\n",
      "pident                                                                                   100\n",
      "length                                                                                   181\n",
      "Name: 2, dtype: object\n",
      "BQ2027_MB1992 4128\n",
      "Rv_tag                                                                           Rv2018\n",
      "locus_tag                                                                 BQ2027_MB2041\n",
      "product                                                                             NaN\n",
      "stitle       Chain A, X-ray Crystal Structure Of Rv2018 From Mycobacterium Tuberculosis\n",
      "sseqid                                                          gi|984076856|pdb|5AF3|A\n",
      "qcovs                                                                               100\n",
      "pident                                                                              100\n",
      "length                                                                              239\n",
      "Name: 3, dtype: object\n",
      "BQ2027_MB2041 4234\n",
      "Rv_tag                                                          Rv2050\n",
      "locus_tag                                                BQ2027_MB2076\n",
      "product                                                RNAP holoenzyme\n",
      "stitle       Chain J, Mtb RNAP Holo/RbpA/Fidaxomicin/upstream fork DNA\n",
      "sseqid                                        gi|1372103260|pdb|6BZO|J\n",
      "qcovs                                                              100\n",
      "pident                                                             100\n",
      "length                                                             111\n",
      "Name: 4, dtype: object\n",
      "BQ2027_MB2076 4304\n",
      "Rv_tag                                                                                Rv2302\n",
      "locus_tag                                                                      BQ2027_MB2324\n",
      "product                                                                                  NaN\n",
      "stitle       Chain A, Solution Structure of the Conserved Hypothetical Protein Rv2302 fro...\n",
      "sseqid                                                                gi|75766092|pdb|2A7Y|A\n",
      "qcovs                                                                                    100\n",
      "pident                                                                                   100\n",
      "length                                                                                    80\n",
      "Name: 5, dtype: object\n",
      "BQ2027_MB2324 4822\n",
      "Rv_tag                                                                             Rv2827c\n",
      "locus_tag                                                                   BQ2027_MB2851c\n",
      "product                                                                                NaN\n",
      "stitle       Chain A, Crystal Structure Of Rv2827c Protein From Mycobacterium Tuberculosis\n",
      "sseqid                                                              gi|99031682|pdb|1ZEL|A\n",
      "qcovs                                                                                  100\n",
      "pident                                                                              99.661\n",
      "length                                                                                 295\n",
      "Name: 6, dtype: object\n",
      "BQ2027_MB2851c 5980\n",
      "Rv_tag                                                                               Rv3902c\n",
      "locus_tag                                                                     BQ2027_MB3932c\n",
      "product                                                              necrotizing toxin (TNT)\n",
      "stitle       Chain A, Atomic structure of tuberculosis necrotizing toxin (TNT) complexed ...\n",
      "sseqid                                                               gi|901695563|pdb|4QLP|A\n",
      "qcovs                                                                                    100\n",
      "pident                                                                                99.432\n",
      "length                                                                                   176\n",
      "Name: 7, dtype: object\n",
      "BQ2027_MB3932c 8252\n",
      "Rv_tag                                                                                Rv3472\n",
      "locus_tag                                                                      BQ2027_MB3501\n",
      "product                                                                                  NaN\n",
      "stitle       Chain A, Structure of Rv3472(D26N), a function unknown protein from Mycobact...\n",
      "sseqid                                                               gi|146386422|pdb|2CHC|A\n",
      "qcovs                                                                                    100\n",
      "pident                                                                                 98.81\n",
      "length                                                                                   168\n",
      "Name: 8, dtype: object\n",
      "BQ2027_MB3501 7352\n",
      "Rv_tag                                                      Rv0807\n",
      "locus_tag                                            BQ2027_MB0830\n",
      "product                                                        NaN\n",
      "stitle       Chain A, Crystal structure of a Mycobacterial protein\n",
      "sseqid                                    gi|1032208047|pdb|4ZY7|A\n",
      "qcovs                                                           99\n",
      "pident                                                      65.625\n",
      "length                                                         128\n",
      "Name: 9, dtype: object\n",
      "BQ2027_MB0830 1710\n",
      "Rv_tag                                     Rv2632c\n",
      "locus_tag                           BQ2027_MB2665c\n",
      "product                                        NaN\n",
      "stitle       Chain A, Crystal Structure Of Rv2632c\n",
      "sseqid                      gi|90109355|pdb|2FGG|A\n",
      "qcovs                                           98\n",
      "pident                                      98.913\n",
      "length                                          92\n",
      "Name: 10, dtype: object\n",
      "BQ2027_MB2665c 5538\n",
      "Rv_tag                                                                             Rv3718c\n",
      "locus_tag                                                                   BQ2027_MB3745c\n",
      "product                                                                                NaN\n",
      "stitle       Chain A, NMR solution structure of KanY protein (ms6282) using two 4D-spectra\n",
      "sseqid                                                            gi|1345621832|pdb|5WOX|A\n",
      "qcovs                                                                                   98\n",
      "pident                                                                              78.621\n",
      "length                                                                                 145\n",
      "Name: 11, dtype: object\n",
      "BQ2027_MB3745c 7854\n",
      "Rv_tag                                                                                Rv3780\n",
      "locus_tag                                                                      BQ2027_MB3809\n",
      "product                                                       Bacterial proteasome activator\n",
      "stitle       Chain 1, Binding of the C-terminal GQYL motif of the bacterial proteasome ac...\n",
      "sseqid                                                              gi|1104687621|pdb|5LZP|1\n",
      "qcovs                                                                                     97\n",
      "pident                                                                                   100\n",
      "length                                                                                   173\n",
      "Name: 12, dtype: object\n",
      "BQ2027_MB3809 7992\n",
      "Rv_tag                                                      Rv2468c\n",
      "locus_tag                                            BQ2027_MB2495c\n",
      "product                                                         NaN\n",
      "stitle       Chain T, Uncharacterized protein MSMEG_4692/MSMEI_4575\n",
      "sseqid                                     gi|1511409573|pdb|6HWH|T\n",
      "qcovs                                                            92\n",
      "pident                                                       69.872\n",
      "length                                                          156\n",
      "Name: 13, dtype: object\n",
      "BQ2027_MB2495c 5182\n",
      "Rv_tag                                                                                Rv0569\n",
      "locus_tag                                                                      BQ2027_MB0584\n",
      "product                                                                                  NaN\n",
      "stitle       Chain A, Solution Structure of the Conserved Hypothetical Protein Rv2302 fro...\n",
      "sseqid                                                                gi|75766092|pdb|2A7Y|A\n",
      "qcovs                                                                                     72\n",
      "pident                                                                                65.625\n",
      "length                                                                                    64\n",
      "Name: 14, dtype: object\n",
      "BQ2027_MB0584 1196\n",
      "updated 5 features\n"
     ]
    },
    {
     "data": {
      "text/plain": [
       "1"
      ]
     },
     "execution_count": 382,
     "metadata": {},
     "output_type": "execute_result"
    }
   ],
   "source": [
    "reload(sequtils)\n",
    "\n",
    "#print (new_annot.locus_tag[:10])\n",
    "print (len(new_annot))\n",
    "print (len(mapping))\n",
    "\n",
    "#load last previously submitted features from embl file\n",
    "feats = SeqIO.read('LT708304_updated_25-05-18.embl','embl')\n",
    "\n",
    "new = update_features(feats, new_annot, 'product')\n",
    "#add old_locus_tag qualifier\n",
    "new = update_features(new, mapping, 'old_locus_tag')\n",
    "note = \"Updated with new functional annotation from literature.\"\n",
    "#new = append_note(feats, un.locus_tag, note)\n",
    "\n",
    "#add manually edited entries from pdb hits\n",
    "manual = pd.read_csv('manual_edits.csv')\n",
    "new = update_features(new, manual, 'product', verbose=True)\n",
    "#save the final file\n",
    "SeqIO.write(new, 'new.embl', \"embl\")"
   ]
  },
  {
   "cell_type": "markdown",
   "metadata": {},
   "source": [
    "## Verify new embl file"
   ]
  },
  {
   "cell_type": "code",
   "execution_count": 380,
   "metadata": {},
   "outputs": [
    {
     "data": {
      "text/plain": [
       "{'total features': 8297,\n",
       " 'coding sequences': 4000,\n",
       " 'cds with translations': 3989,\n",
       " 'cds with gene names': 1961,\n",
       " 'hypothetical': 459,\n",
       " 'pseudogenes': 11,\n",
       " 'trna': 45,\n",
       " 'no locus tags': 33,\n",
       " 'mean sequence length': 330}"
      ]
     },
     "execution_count": 380,
     "metadata": {},
     "output_type": "execute_result"
    }
   ],
   "source": [
    "new = sequtils.embl_to_dataframe('new.embl','embl')\n",
    "sequtils.features_summary(new)"
   ]
  },
  {
   "cell_type": "markdown",
   "metadata": {},
   "source": [
    "## patric extra genes not in reference mbovis"
   ]
  },
  {
   "cell_type": "code",
   "execution_count": null,
   "metadata": {},
   "outputs": [],
   "source": [
    "patric_mb=pd.read_csv('patric_Mbovis.csv')\n",
    "new_patric = patric_mb[patric_mb.locus_tag.isnull()]\n",
    "print (new_patric[:4])\n",
    "#print (len(new_patric))\n",
    "df=sequtils.fasta_to_dataframe('patric_Mbovis.faa')\n",
    "df['id'] = df.locus_tag.apply(lambda x: x.split('_Mb')[0].replace('_','|'),1)\n",
    "#df[:5]\n",
    "df=df[df.id.isin(new_patric['PATRIC ID'])]\n",
    "#print (df)\n",
    "#pbl=sequtils.blast_sequences('swissprot',df.translation,labels=df.locus_tag)\n",
    "#pbl.to_csv('new_patric_blast_swissprot.csv')"
   ]
  }
 ],
 "metadata": {
  "kernelspec": {
   "display_name": "Python 3",
   "language": "python",
   "name": "python3"
  },
  "language_info": {
   "codemirror_mode": {
    "name": "ipython",
    "version": 3
   },
   "file_extension": ".py",
   "mimetype": "text/x-python",
   "name": "python",
   "nbconvert_exporter": "python",
   "pygments_lexer": "ipython3",
   "version": "3.7.3"
  }
 },
 "nbformat": 4,
 "nbformat_minor": 2
}

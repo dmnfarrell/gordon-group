{
 "cells": [
  {
   "cell_type": "markdown",
   "id": "2763dec7-1204-42b0-b486-fc43367e1f8d",
   "metadata": {},
   "source": [
    "# Mycoplasma Bovis analysis\n",
    "\n",
    "Links\n",
    "\n",
    "* https://www.ncbi.nlm.nih.gov/genome/browse/#!/prokaryotes/1150/\n",
    "\n",
    "Bioprojects:\n",
    "\n",
    "* Genomic epidemiology of Mycoplasma bovis in France: SRP386998\n",
    "* Genome-Wide Identification of Variants Associated with Antimicrobial Resistance in Mycoplasma bovis: SRP349146\n",
    "* Sanger Full_genome_sequencing_of_Mycoplasma_species_isolates_from_ruminants: PRJEB3408\n",
    "\n",
    "Refs:\n",
    "\n",
    "* [Genomics-based epidemiology of bovine Mycoplasma bovis strains in Israel](https://bmcgenomics.biomedcentral.com/articles/10.1186/s12864-020-6460-0#Sec13)\n",
    "* [Population Genomic Analysis of Mycoplasma bovis Elucidates Geographical Variations and Genes associated with Host-Types](https://www.ncbi.nlm.nih.gov/pmc/articles/PMC7650767/)"
   ]
  },
  {
   "cell_type": "code",
   "execution_count": 315,
   "id": "f4071668-d7dc-4c29-ba33-2e566485008a",
   "metadata": {},
   "outputs": [],
   "source": [
    "import os,sys,subprocess,glob\n",
    "import numpy as np\n",
    "import pandas as pd\n",
    "import pylab as plt\n",
    "import seaborn as sns\n",
    "from importlib import reload\n",
    "from snipgenie import app, tools, wgmlst"
   ]
  },
  {
   "cell_type": "code",
   "execution_count": 285,
   "id": "80ad78a9-594a-4607-b5f5-8565f5d0b83a",
   "metadata": {},
   "outputs": [],
   "source": [
    "df=pd.read_csv('results/samples.csv')"
   ]
  },
  {
   "cell_type": "markdown",
   "id": "ca2a4d0b-fbba-4d85-be9d-4f0e522c8816",
   "metadata": {},
   "source": [
    "## assembly"
   ]
  },
  {
   "cell_type": "code",
   "execution_count": null,
   "id": "8fd25a79-dd9e-48fc-81bf-a73391d3fa2e",
   "metadata": {},
   "outputs": [
    {
     "name": "stdout",
     "output_type": "stream",
     "text": [
      "240\n",
      "C06786950603283112\n",
      "spades -t 12 --pe1-1 /storage/catherine/data/C06786950603283112_S8_L001-4_R1_001.fastq.gz --pe1-2 /storage/catherine/data/C06786950603283112_S8_L001-4_R2_001.fastq.gz --careful -o assembly/C06786950603283112\n"
     ]
    }
   ],
   "source": [
    "for i,r in df[12:14].iterrows():    \n",
    "    name = r['sample']\n",
    "    print (name)\n",
    "    wgmlst.spades(r.filename1,r.filename2, os.path.join('assembly',name), 'assembly/%s.fa' %name, 12)"
   ]
  },
  {
   "cell_type": "markdown",
   "id": "f1510970-c4d2-4c3e-858f-f47b1ab1e805",
   "metadata": {},
   "source": [
    "## annotation"
   ]
  },
  {
   "cell_type": "code",
   "execution_count": null,
   "id": "fd5d4880-9292-453a-8667-3f3a0a3d3df0",
   "metadata": {},
   "outputs": [],
   "source": [
    "out='annot'\n",
    "files = glob.glob('assembly/*.fa')\n",
    "a = [os.path.basename(i) for i in files]\n",
    "print (files)\n",
    "\n",
    "for f in files:\n",
    "    n = os.path.splitext(os.path.basename(f))[0]\n",
    "    cmd = 'prokka --outdir {o}/{n} {f} --prefix {n}'.format(f=f,n=n,o=out)#,p=path)\n",
    "    print(cmd)\n",
    "    #if not os.path.exists('%s/%s' %(out,n)):\n",
    "        #print cmd\n",
    "        #subprocess.check_output(cmd, shell=True)"
   ]
  },
  {
   "cell_type": "markdown",
   "id": "f2804aa5-2649-4b7f-9f29-2f20d4daae5d",
   "metadata": {},
   "source": [
    "## coverage"
   ]
  },
  {
   "cell_type": "code",
   "execution_count": null,
   "id": "5d270558-68e3-4e48-98ca-57cdae6c5279",
   "metadata": {},
   "outputs": [],
   "source": [
    "reload(tools)\n",
    "n=8\n",
    "fig,ax=plt.subplots(n-1,1,figsize=(25,12))\n",
    "axs=ax.flat\n",
    "i=0\n",
    "for idx,r in df.sample(n).iterrows(): \n",
    "    #print (r.bam_file)\n",
    "    if pd.isnull(r.bam_file): continue   \n",
    "    d=tools.samtools_depth(r.bam_file, start=180000,end=300000)\n",
    "    x=groupby_interval(d,500,1000)\n",
    "    ax=axs[i]\n",
    "    x.plot(kind='area',ax=ax)\n",
    "    label = r['sample']\n",
    "    ax.text(.05,.8,label,color='blue',transform=ax.transAxes,fontsize=12)\n",
    "    ax.set_xticklabels([])\n",
    "    i+=1\n",
    "sns.despine()\n",
    "plt.tight_layout()"
   ]
  },
  {
   "cell_type": "code",
   "execution_count": 234,
   "id": "1ba6e28b-54a8-40a9-802e-9474e20583e0",
   "metadata": {},
   "outputs": [],
   "source": [
    "def groupby_interval(df, clip=2, interval=100):\n",
    "    \"\"\"Group over an interval - used for samtools depth data\"\"\"\n",
    "    \n",
    "    min = df.pos.min()\n",
    "    max=df.pos.max()\n",
    "    b = np.arange(min, max, interval)\n",
    "    #rint (b)\n",
    "    x=df.groupby(pd.cut(df.pos, bins=b, labels=b[:-1], right=False)).mean(numeric_only=True)['depth']\n",
    "    x = x.clip(0,clip)\n",
    "    x = x.replace(0,np.nan)\n",
    "    return x.dropna()"
   ]
  },
  {
   "cell_type": "code",
   "execution_count": null,
   "id": "5b6465af-d8f4-44ab-9649-57285521a927",
   "metadata": {},
   "outputs": [],
   "source": [
    "d=tools.samtools_depth('results/mapped/222A.bam')\n",
    "data=groupby_interval(d,500,1000).dropna()\n",
    "data"
   ]
  },
  {
   "cell_type": "code",
   "execution_count": null,
   "id": "c9a087cf-2a95-4bf6-94d0-95eaa2d9f456",
   "metadata": {},
   "outputs": [],
   "source": [
    "from pycirclize import Circos\n",
    "from pycirclize.parser import Genbank\n",
    "from pycirclize.utils import load_prokaryote_example_file\n",
    "import numpy as np\n",
    "from matplotlib.patches import Patch\n",
    "\n",
    "# Load Genbank file\n",
    "gbk_file = 'NC_014760.gb'\n",
    "gbk = Genbank(gbk_file)\n",
    "\n",
    "circos = Circos(sectors={gbk.name: gbk.range_size}, start=0, end=320)\n",
    "sector = circos.get_sector(gbk.name)\n",
    "major_ticks_interval = 200000\n",
    "minor_ticks_interval = 50000\n",
    "outer_track = sector.add_track((98, 100))\n",
    "outer_track.axis(fc=\"lightgrey\")\n",
    "outer_track.xticks_by_interval(\n",
    "    major_ticks_interval, label_formatter=lambda v: f\"{v/ 10 ** 6:.1f} Mb\"\n",
    ")\n",
    "outer_track.xticks_by_interval(minor_ticks_interval, tick_length=1, show_label=False)\n",
    "\n",
    "f_cds_track = sector.add_track((90, 97), r_pad_ratio=0.1)\n",
    "f_cds_track.genomic_features(gbk.extract_features(\"CDS\", target_strand=1), fc=\"red\")\n",
    "r_cds_track = sector.add_track((83, 90), r_pad_ratio=0.1)\n",
    "r_cds_track.genomic_features(gbk.extract_features(\"CDS\", target_strand=-1), fc=\"blue\")\n",
    "\n",
    "n=8\n",
    "i=70\n",
    "h=6\n",
    "text_common_kws = dict(ha=\"right\", va=\"center\", size=8)\n",
    "for idx,r in df.sample(n).iterrows(): \n",
    "    name = r['sample']\n",
    "    if pd.isnull(r.bam_file): continue   \n",
    "    d = tools.samtools_depth(r.bam_file)#, start=200000,end=350000)\n",
    "    data = groupby_interval(d,500,2000)\n",
    "    x=data.index\n",
    "    y=data.values\n",
    "    track = sector.add_track((i, i+h), r_pad_ratio=0.1)\n",
    "    track.axis()\n",
    "    #track.line(x, y)\n",
    "    track.fill_between(x, y, ec=\"black\", lw=.2)\n",
    "    i-=h\n",
    "    circos.text(name, r=i+h+2, color=\"black\", **text_common_kws)\n",
    "\n",
    "fig = circos.plotfig(160)"
   ]
  },
  {
   "cell_type": "code",
   "execution_count": null,
   "id": "c094fc05-95fe-4be9-a765-bc59a172e14d",
   "metadata": {},
   "outputs": [],
   "source": [
    "from pycirclize import Circos\n",
    "from io import StringIO\n",
    "from Bio import Phylo\n",
    "import numpy as np\n",
    "\n",
    "np.random.seed(0)\n",
    "\n",
    "tree = Phylo.read('results/tree.newick', \"newick\")\n",
    "leaf_num = tree.count_terminals()\n",
    "\n",
    "# Initialize circos sector with tree size\n",
    "circos = Circos(sectors={\"Tree\": leaf_num}, start=-350, end=0)\n",
    "sector = circos.sectors[0]\n",
    "\n",
    "# Plot tree\n",
    "tree_track = sector.add_track((30, 80))\n",
    "tree_track.tree(\n",
    "    tree,\n",
    "    use_branch_length=True, \n",
    "    leaf_label_size=10,\n",
    "    leaf_label_margin=2, # Set large margin for heatmap plot\n",
    "    \n",
    ")\n",
    "\n",
    "# Plot heatmap\n",
    "heatmap_track = sector.add_track((100, 120))\n",
    "matrix_data = np.random.randint(0, 100, (5, leaf_num))\n",
    "heatmap_track.heatmap(matrix_data, cmap=\"viridis\")\n",
    "heatmap_track.yticks([0.5, 1.5, 2.5, 3.5, 4.5], list(\"ABCDE\"), vmax=5, tick_length=0)\n",
    "\n",
    "fig = circos.plotfig()\n"
   ]
  },
  {
   "cell_type": "markdown",
   "id": "4bc1a236-c592-4d20-b74d-39e87848d070",
   "metadata": {},
   "source": [
    "## AMR snps"
   ]
  },
  {
   "cell_type": "markdown",
   "id": "3ff408d3-b7c6-48b7-9e46-7dc69349634e",
   "metadata": {},
   "source": [
    "## kraken"
   ]
  },
  {
   "cell_type": "code",
   "execution_count": null,
   "id": "83948859-933d-42e1-9c9d-bc4bcecd4233",
   "metadata": {},
   "outputs": [],
   "source": []
  }
 ],
 "metadata": {
  "kernelspec": {
   "display_name": "Python 3 (ipykernel)",
   "language": "python",
   "name": "python3"
  },
  "language_info": {
   "codemirror_mode": {
    "name": "ipython",
    "version": 3
   },
   "file_extension": ".py",
   "mimetype": "text/x-python",
   "name": "python",
   "nbconvert_exporter": "python",
   "pygments_lexer": "ipython3",
   "version": "3.10.6"
  }
 },
 "nbformat": 4,
 "nbformat_minor": 5
}

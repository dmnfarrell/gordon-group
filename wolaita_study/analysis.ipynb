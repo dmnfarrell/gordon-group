{
 "cells": [
  {
   "cell_type": "markdown",
   "id": "2763dec7-1204-42b0-b486-fc43367e1f8d",
   "metadata": {},
   "source": [
    "# Melese Samples\n",
    "\n",
    "* https://www.ncbi.nlm.nih.gov/pmc/articles/PMC8528816/\n",
    "* https://www.microbiologyresearch.org/content/journal/mgen/10.1099/mgen.0.000539\n",
    "* https://www.ncbi.nlm.nih.gov/datasets/genome/?taxon=1866885&assembly_level=3:3"
   ]
  },
  {
   "cell_type": "code",
   "execution_count": 1,
   "id": "f4071668-d7dc-4c29-ba33-2e566485008a",
   "metadata": {},
   "outputs": [],
   "source": [
    "import os,sys,subprocess,glob,re, shutil\n",
    "import numpy as np\n",
    "import pandas as pd\n",
    "import pylab as plt\n",
    "import seaborn as sns\n",
    "from importlib import reload\n",
    "from Bio import AlignIO\n",
    "from snipgenie import app, tools, entrez, trees"
   ]
  },
  {
   "cell_type": "code",
   "execution_count": 2,
   "id": "80ad78a9-594a-4607-b5f5-8565f5d0b83a",
   "metadata": {},
   "outputs": [],
   "source": [
    "samples=pd.read_csv('run3_results/samples.csv')"
   ]
  },
  {
   "cell_type": "code",
   "execution_count": 3,
   "id": "b18e6e15-d191-4e49-acb0-7a415d06411e",
   "metadata": {},
   "outputs": [],
   "source": [
    "dm = pd.read_csv('run3_results/snpdist.csv',index_col=0)\n",
    "#T,pos = tools.dist_matrix_to_mst(dm,samples,colorcol='Region_Code',node_size=40,ax=ax)"
   ]
  },
  {
   "cell_type": "markdown",
   "id": "2dbec2e0-b4af-44c3-895a-dd79b7273ad0",
   "metadata": {},
   "source": [
    "## RD for MTBC samples"
   ]
  },
  {
   "cell_type": "code",
   "execution_count": 12,
   "id": "7f89bff4-019e-4c5f-8a53-042379c17ea2",
   "metadata": {},
   "outputs": [],
   "source": [
    "rd=pd.read_csv('RD_mtb.csv',index_col=0).iloc[:,:-2].T\n",
    "rd = rd.T"
   ]
  },
  {
   "cell_type": "code",
   "execution_count": 13,
   "id": "fc89153a-7869-4742-a202-41ef8768064a",
   "metadata": {},
   "outputs": [],
   "source": [
    "mtbmeta = pd.read_csv('/other/mtbc/metadata.csv')\n",
    "mtbmeta=mtbmeta.merge(rd,left_on='name',right_index=True)\n",
    "mtbmeta.to_csv('mtbc_metadata.csv',index=False)"
   ]
  },
  {
   "cell_type": "code",
   "execution_count": 33,
   "id": "b01a3462-2bfc-47c4-8358-cc6b3fc9ef39",
   "metadata": {},
   "outputs": [
    {
     "data": {
      "text/html": [
       "<style type=\"text/css\">\n",
       "#T_ec189_row0_col0, #T_ec189_row1_col1, #T_ec189_row2_col2, #T_ec189_row3_col3, #T_ec189_row4_col4 {\n",
       "  background-color: #f7fcfd;\n",
       "  color: #000000;\n",
       "}\n",
       "#T_ec189_row0_col1, #T_ec189_row1_col0 {\n",
       "  background-color: #f6fcfd;\n",
       "  color: #000000;\n",
       "}\n",
       "#T_ec189_row0_col2 {\n",
       "  background-color: #005c25;\n",
       "  color: #f1f1f1;\n",
       "}\n",
       "#T_ec189_row0_col3, #T_ec189_row0_col4, #T_ec189_row1_col4 {\n",
       "  background-color: #52b78b;\n",
       "  color: #f1f1f1;\n",
       "}\n",
       "#T_ec189_row1_col2 {\n",
       "  background-color: #005b25;\n",
       "  color: #f1f1f1;\n",
       "}\n",
       "#T_ec189_row1_col3 {\n",
       "  background-color: #51b689;\n",
       "  color: #f1f1f1;\n",
       "}\n",
       "#T_ec189_row2_col0, #T_ec189_row2_col1, #T_ec189_row2_col3, #T_ec189_row2_col4, #T_ec189_row3_col2 {\n",
       "  background-color: #00441b;\n",
       "  color: #f1f1f1;\n",
       "}\n",
       "#T_ec189_row3_col0, #T_ec189_row4_col0 {\n",
       "  background-color: #45b07b;\n",
       "  color: #f1f1f1;\n",
       "}\n",
       "#T_ec189_row3_col1 {\n",
       "  background-color: #44af79;\n",
       "  color: #f1f1f1;\n",
       "}\n",
       "#T_ec189_row3_col4, #T_ec189_row4_col3 {\n",
       "  background-color: #ccece6;\n",
       "  color: #000000;\n",
       "}\n",
       "#T_ec189_row4_col1 {\n",
       "  background-color: #46b17c;\n",
       "  color: #f1f1f1;\n",
       "}\n",
       "#T_ec189_row4_col2 {\n",
       "  background-color: #00451c;\n",
       "  color: #f1f1f1;\n",
       "}\n",
       "</style>\n",
       "<table id=\"T_ec189\">\n",
       "  <thead>\n",
       "    <tr>\n",
       "      <th class=\"blank level0\" >&nbsp;</th>\n",
       "      <th id=\"T_ec189_level0_col0\" class=\"col_heading level0 col0\" >Sh24</th>\n",
       "      <th id=\"T_ec189_level0_col1\" class=\"col_heading level0 col1\" >Sh13</th>\n",
       "      <th id=\"T_ec189_level0_col2\" class=\"col_heading level0 col2\" >ERR1200614</th>\n",
       "      <th id=\"T_ec189_level0_col3\" class=\"col_heading level0 col3\" >ERR2516767</th>\n",
       "      <th id=\"T_ec189_level0_col4\" class=\"col_heading level0 col4\" >ERR158614</th>\n",
       "    </tr>\n",
       "  </thead>\n",
       "  <tbody>\n",
       "    <tr>\n",
       "      <th id=\"T_ec189_level0_row0\" class=\"row_heading level0 row0\" >Sh24</th>\n",
       "      <td id=\"T_ec189_row0_col0\" class=\"data row0 col0\" >0</td>\n",
       "      <td id=\"T_ec189_row0_col1\" class=\"data row0 col1\" >3</td>\n",
       "      <td id=\"T_ec189_row0_col2\" class=\"data row0 col2\" >640</td>\n",
       "      <td id=\"T_ec189_row0_col3\" class=\"data row0 col3\" >392</td>\n",
       "      <td id=\"T_ec189_row0_col4\" class=\"data row0 col4\" >390</td>\n",
       "    </tr>\n",
       "    <tr>\n",
       "      <th id=\"T_ec189_level0_row1\" class=\"row_heading level0 row1\" >Sh13</th>\n",
       "      <td id=\"T_ec189_row1_col0\" class=\"data row1 col0\" >3</td>\n",
       "      <td id=\"T_ec189_row1_col1\" class=\"data row1 col1\" >0</td>\n",
       "      <td id=\"T_ec189_row1_col2\" class=\"data row1 col2\" >643</td>\n",
       "      <td id=\"T_ec189_row1_col3\" class=\"data row1 col3\" >395</td>\n",
       "      <td id=\"T_ec189_row1_col4\" class=\"data row1 col4\" >391</td>\n",
       "    </tr>\n",
       "    <tr>\n",
       "      <th id=\"T_ec189_level0_row2\" class=\"row_heading level0 row2\" >ERR1200614</th>\n",
       "      <td id=\"T_ec189_row2_col0\" class=\"data row2 col0\" >640</td>\n",
       "      <td id=\"T_ec189_row2_col1\" class=\"data row2 col1\" >643</td>\n",
       "      <td id=\"T_ec189_row2_col2\" class=\"data row2 col2\" >0</td>\n",
       "      <td id=\"T_ec189_row2_col3\" class=\"data row2 col3\" >692</td>\n",
       "      <td id=\"T_ec189_row2_col4\" class=\"data row2 col4\" >688</td>\n",
       "    </tr>\n",
       "    <tr>\n",
       "      <th id=\"T_ec189_level0_row3\" class=\"row_heading level0 row3\" >ERR2516767</th>\n",
       "      <td id=\"T_ec189_row3_col0\" class=\"data row3 col0\" >392</td>\n",
       "      <td id=\"T_ec189_row3_col1\" class=\"data row3 col1\" >395</td>\n",
       "      <td id=\"T_ec189_row3_col2\" class=\"data row3 col2\" >692</td>\n",
       "      <td id=\"T_ec189_row3_col3\" class=\"data row3 col3\" >0</td>\n",
       "      <td id=\"T_ec189_row3_col4\" class=\"data row3 col4\" >174</td>\n",
       "    </tr>\n",
       "    <tr>\n",
       "      <th id=\"T_ec189_level0_row4\" class=\"row_heading level0 row4\" >ERR158614</th>\n",
       "      <td id=\"T_ec189_row4_col0\" class=\"data row4 col0\" >390</td>\n",
       "      <td id=\"T_ec189_row4_col1\" class=\"data row4 col1\" >391</td>\n",
       "      <td id=\"T_ec189_row4_col2\" class=\"data row4 col2\" >688</td>\n",
       "      <td id=\"T_ec189_row4_col3\" class=\"data row4 col3\" >174</td>\n",
       "      <td id=\"T_ec189_row4_col4\" class=\"data row4 col4\" >0</td>\n",
       "    </tr>\n",
       "  </tbody>\n",
       "</table>\n"
      ],
      "text/plain": [
       "<pandas.io.formats.style.Styler at 0x7a0711097fa0>"
      ]
     },
     "execution_count": 33,
     "metadata": {},
     "output_type": "execute_result"
    }
   ],
   "source": [
    "tbdm = pd.read_csv('/other/mtbc/results_mtb/snpdist.csv',index_col=0)\n",
    "cols=['Sh24','Sh13','ERR1200614','ERR2516767','ERR158614']\n",
    "tbdm.loc[cols,cols].style.background_gradient(cmap ='BuGn')"
   ]
  },
  {
   "cell_type": "markdown",
   "id": "ca2a4d0b-fbba-4d85-be9d-4f0e522c8816",
   "metadata": {},
   "source": [
    "## assembly"
   ]
  },
  {
   "cell_type": "code",
   "execution_count": null,
   "id": "087f343b-4168-43b3-89f6-6dd3a95ec5a4",
   "metadata": {},
   "outputs": [],
   "source": [
    "def megahit(r1, r2, outdir):\n",
    "    mc = '/local/MEGAHIT-1.2.9-Linux-x86_64-static/bin/./megahit'\n",
    "    cmd = '{mc} -1 {r1} -2 {r2} -o {o}'.format(mc=mc,r1=r1,r2=r2,o=outdir)\n",
    "    print (cmd)\n",
    "    subprocess.check_output(cmd, shell=True)\n",
    "    return\n",
    "    \n",
    "for i,r in samples[:5].iterrows():\n",
    "    name = r['sample']\n",
    "    path = os.path.join('megahit',name)\n",
    "    if os.path.exists(path):\n",
    "        continue\n",
    "    megahit(r.filename1,r.filename2, path)\n",
    "    "
   ]
  },
  {
   "cell_type": "code",
   "execution_count": null,
   "id": "25f86074-166a-4c78-9117-ff5f2db52656",
   "metadata": {},
   "outputs": [],
   "source": [
    "files = glob.glob('annot/**/*.gff',recursive=True)\n",
    "import shutil\n",
    "for f in files:   \n",
    "    shutil.copy(f, os.path.join('gff_annot',os.path.basename(f)))"
   ]
  },
  {
   "cell_type": "markdown",
   "id": "f1510970-c4d2-4c3e-858f-f47b1ab1e805",
   "metadata": {},
   "source": [
    "## kraken"
   ]
  },
  {
   "cell_type": "code",
   "execution_count": null,
   "id": "fd5d4880-9292-453a-8667-3f3a0a3d3df0",
   "metadata": {},
   "outputs": [],
   "source": [
    "samples =pd.read_csv('run4_results/samples.csv')\n",
    "res=[]\n",
    "found = pd.read_csv('contam_standard16.csv')\n",
    "#found = pd.DataFrame({'sample':[]})\n",
    "for i,r in samples.iterrows():\n",
    "    name = r['sample']\n",
    "    print (name)\n",
    "    if name in list(found['sample']):\n",
    "        continue\n",
    "    rep = tools.kraken(r.filename1,r.filename2, threads=12, dbname='STANDARD16')    \n",
    "    rep = rep[rep.perc_frag>=0.1]    \n",
    "    rep['sample'] = name\n",
    "    res.append(rep)\n",
    "    \n",
    "if len(res)>0:\n",
    "    df=pd.concat(res)\n",
    "    found = pd.concat([found,df])\n",
    "    found.to_csv('contam_standard16.csv',index=False)"
   ]
  },
  {
   "cell_type": "code",
   "execution_count": 15,
   "id": "a30ec25d-a7ec-47ab-8ee5-751fcf79cfe0",
   "metadata": {},
   "outputs": [
    {
     "data": {
      "image/png": "[encoded data removed]",
      "text/plain": [
       "<Figure size 1000x500 with 2 Axes>"
      ]
     },
     "metadata": {},
     "output_type": "display_data"
    }
   ],
   "source": [
    "found = pd.read_csv('contam_standard16.csv')\n",
    "found = found[found.run.isin([3,4])]\n",
    "x=found[found.rank_code=='G']\n",
    "contam = x.pivot_table(index='sample',columns='name',values='perc_frag').fillna(0).T\n",
    "contam = contam[contam.sum(1)>3]\n",
    "ax=plt.subplots(1,1,figsize=(10,5))\n",
    "sns.heatmap(contam,lw=1,cmap='Blues',annot=True,yticklabels=True,annot_kws={'fontsize':8})\n",
    "plt.savefig('kraken.png',dpi=150)"
   ]
  },
  {
   "cell_type": "markdown",
   "id": "158732e7-1562-4b43-8e36-f2d8164842c1",
   "metadata": {},
   "source": [
    "## SRA ethopia "
   ]
  },
  {
   "cell_type": "code",
   "execution_count": null,
   "id": "e6c8eca1-c3c0-4687-87c8-b203447ca905",
   "metadata": {},
   "outputs": [],
   "source": [
    "df = pd.read_csv('ethiopia_sra.csv')\n",
    "reload(tools)\n",
    "tools.fetch_sra_reads(df, 'sra', key='Accession', sample_size=20, omit=['ERR4772237','ERR4772234']) # test=True"
   ]
  },
  {
   "cell_type": "markdown",
   "id": "d7164f79-4bfe-4ae3-9dd4-2c558346a5ea",
   "metadata": {},
   "source": [
    "## mycolicbacter"
   ]
  },
  {
   "cell_type": "code",
   "execution_count": null,
   "id": "8ebcc8d9-b554-472a-b940-0b2c2ceeefa4",
   "metadata": {
    "scrolled": true
   },
   "outputs": [],
   "source": [
    "out='mycolicibacter/annot'\n",
    "files = glob.glob('mycolicibacter/data/*.fa')\n",
    "\n",
    "for f in files:    \n",
    "    name = os.path.splitext(os.path.basename(f))[0]    \n",
    "    cmd = '/local/prokka/bin/prokka --genus mycolicibacter --outdir {o}/{n} {f} --prefix {n}'.format(f=f,n=name,o=out)\n",
    "    if not os.path.exists('%s/%s' %(out,name)):\n",
    "        print (cmd)\n",
    "        subprocess.check_output(cmd, shell=True)"
   ]
  },
  {
   "cell_type": "code",
   "execution_count": 24,
   "id": "beed2935-5ab5-4c5e-8f99-46305e99540a",
   "metadata": {},
   "outputs": [],
   "source": [
    "files = glob.glob('mycolicibacter/annot/**/*.faa',recursive=True)\n",
    "for f in files:\n",
    "    shutil.copy(f, os.path.join('mycolicibacter/faa',os.path.basename(f)))"
   ]
  },
  {
   "cell_type": "markdown",
   "id": "e51aa8da-6be4-45e7-b5fd-3451309909c1",
   "metadata": {},
   "source": [
    "## Orthofinder"
   ]
  },
  {
   "cell_type": "code",
   "execution_count": 66,
   "id": "2243f06b-cc5c-446c-aaf6-88fb345df3c5",
   "metadata": {},
   "outputs": [],
   "source": [
    "#extract ncbi dataset files\n",
    "\n",
    "ncbi = pd.read_csv('mycolicibacter/ncbi_dataset.tsv',sep='\\t')\n",
    "x=ncbi.drop_duplicates(subset=['Organism Name'])\n",
    "names = list(x['Assembly Accession'])\n",
    "\n",
    "files = glob.glob('mycolicibacter/ncbi_data/*',recursive=True)\n",
    "\n",
    "for f in files:\n",
    "    name = os.path.basename(f)\n",
    "    if name not in names: continue  \n",
    "    #prot = os.path.join(f, 'protein.faa')\n",
    "    #target = os.path.join('mycolicibacter/faa',name+'.faa')    \n",
    "    nuc = os.path.join(f, 'protein.faa')\n",
    "    #print (f,name,prot, target)   \n",
    "    try:\n",
    "        shutil.copy(prot, target)\n",
    "    except:\n",
    "        pass"
   ]
  },
  {
   "cell_type": "code",
   "execution_count": 68,
   "id": "8eb68e40-f0fd-4222-b9e9-5a4cbce3681a",
   "metadata": {},
   "outputs": [
    {
     "name": "stdout",
     "output_type": "stream",
     "text": [
      "python3 /local/OrthoFinder_source/orthofinder.py -t 12 -f faa\n"
     ]
    }
   ],
   "source": [
    "indir = 'faa'\n",
    "cmd = f'python3 /local/OrthoFinder_source/orthofinder.py -t 12 -f {indir}'\n",
    "print (cmd)"
   ]
  },
  {
   "cell_type": "markdown",
   "id": "5ac5582c-8833-492f-961a-93a764209578",
   "metadata": {},
   "source": [
    "## blast contigs against species locally"
   ]
  },
  {
   "cell_type": "code",
   "execution_count": 8,
   "id": "ab8a7ced-3727-41d6-bc72-a31ea5841eef",
   "metadata": {},
   "outputs": [],
   "source": [
    "#tools.make_blast_database('mycolicibacter/all_species.fa')\n",
    "bl=tools.blast_fasta('mycolicibacter/all_species.fa','mycolicibacter/Sh17.fa')"
   ]
  },
  {
   "cell_type": "code",
   "execution_count": 54,
   "id": "fbb0882c-077f-4ec1-944c-e29c5a5e7b14",
   "metadata": {},
   "outputs": [],
   "source": [
    "bl['species'] = bl.stitle.apply(lambda x: x.split(' ')[1:3])"
   ]
  },
  {
   "cell_type": "code",
   "execution_count": 55,
   "id": "fea8cc5d-314a-40f7-8361-ce595c0bc8b9",
   "metadata": {},
   "outputs": [],
   "source": [
    "x=bl[bl.pident>95]\n",
    "cols = ['qseqid','sseqid','pident','qcovs','length','species']\n",
    "#x.sseqid.value_counts()\n",
    "x = x.groupby('qseqid').first()[cols[1:]]"
   ]
  },
  {
   "cell_type": "code",
   "execution_count": null,
   "id": "8b4e65ef-eec7-43e5-80c8-10b484f59f55",
   "metadata": {},
   "outputs": [],
   "source": [
    "xx=x.sort_values('length',ascending=False)[:30]\n",
    "xx.plot(x='species',y='pident',kind='barh',figsize=(4,8))"
   ]
  },
  {
   "cell_type": "markdown",
   "id": "e9bbc353-c587-47ff-b89f-c2260d5ded4a",
   "metadata": {
    "jp-MarkdownHeadingCollapsed": true
   },
   "source": [
    "## get assemblies for nocardia farcinica"
   ]
  },
  {
   "cell_type": "code",
   "execution_count": null,
   "id": "98bd18d8-e65d-404a-ad68-d6b5493b9ef1",
   "metadata": {},
   "outputs": [],
   "source": [
    "reload(entrez)\n",
    "#ids = entrez.find_assemblies('Nocardia Farcinica')\n",
    "df=pd.read_csv('uilist.txt')\n",
    "ids = list(df.id)\n",
    "res = entrez.get_assembly_report(ids)\n",
    "\n",
    "res.to_csv('assembly_report.csv')"
   ]
  },
  {
   "cell_type": "code",
   "execution_count": 12,
   "id": "6c7ff2db-0ece-4210-9c21-458d651f07df",
   "metadata": {},
   "outputs": [
    {
     "name": "stderr",
     "output_type": "stream",
     "text": [
      "/tmp/ipykernel_3730162/583507303.py:4: FutureWarning: the convert_dtype parameter is deprecated and will be removed in a future version.  Do ``ser.astype(object).apply()`` instead if you want ``convert_dtype=False``.\n",
      "  res['name'] = res.GenbankAccession.apply(func,1)\n"
     ]
    }
   ],
   "source": [
    "#entrez.download_links(res,'entrez_assemblies')\n",
    "def func(x):\n",
    "    return re.sub(r'\\.(1|2)', '', x)\n",
    "res['name'] = res.GenbankAccession.apply(func,1)\n",
    "res['country'] = res.geo_loc_name.fillna('').apply(lambda x: x.split(':')[0])\n",
    "res=res.drop_duplicates('name')\n",
    "res=res.set_index('name')"
   ]
  },
  {
   "cell_type": "code",
   "execution_count": 14,
   "id": "16d24104-bb8a-435f-9f8f-0e5ce7e5fcb3",
   "metadata": {},
   "outputs": [],
   "source": [
    "res.to_csv('assembly_report.csv')"
   ]
  },
  {
   "cell_type": "code",
   "execution_count": 118,
   "id": "30334702-b331-423b-a005-691adfc27516",
   "metadata": {},
   "outputs": [
    {
     "name": "stdout",
     "output_type": "stream",
     "text": [
      "1 66768\n",
      "5 66731\n",
      "60 63589\n",
      "61 0\n"
     ]
    }
   ],
   "source": [
    "## samtools filter reads for contamination plugin...\n",
    "\n",
    "bamfile = 'melese_results/contam/a004~~LT708304.1.bam'\n",
    "bamfile = 'melese_results/contam/a004~~NC_006361.1.bam'\n",
    "out = 'test.bam'\n",
    "\n",
    "for q in [1,5,60,61]:\n",
    "    #cmd = 'samtools view -e \\'[NM]<={m}\\' -O BAM -o {o} {i}'.format(i=bamfile,o=out,m=mm)\n",
    "    cmd = 'samtools view -q {q} -O BAM -o {o} {i}'.format(i=bamfile,o=out,q=q)   \n",
    "    #print (cmd)\n",
    "    subprocess.check_output(cmd,shell=True)\n",
    "    d = tools.samtools_flagstat(out)\n",
    "    print (q,d['total'])"
   ]
  },
  {
   "cell_type": "code",
   "execution_count": null,
   "id": "1166c8f2-97b3-4030-86e9-0c537ad9bbf6",
   "metadata": {},
   "outputs": [],
   "source": []
  }
 ],
 "metadata": {
  "kernelspec": {
   "display_name": "Python 3 (ipykernel)",
   "language": "python",
   "name": "python3"
  },
  "language_info": {
   "codemirror_mode": {
    "name": "ipython",
    "version": 3
   },
   "file_extension": ".py",
   "mimetype": "text/x-python",
   "name": "python",
   "nbconvert_exporter": "python",
   "pygments_lexer": "ipython3",
   "version": "3.10.12"
  }
 },
 "nbformat": 4,
 "nbformat_minor": 5
}

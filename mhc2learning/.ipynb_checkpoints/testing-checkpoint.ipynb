{
 "cells": [
  {
   "cell_type": "markdown",
   "metadata": {},
   "source": [
    "## MHC II binding prediction using machine learning with sklearn and gibbs sampling\n",
    "\n",
    "### references:\n",
    "\n",
    "A Brief Overview of Gibbs Sampling, Eric C. Rouchka, TR-ULBL-2008-02. (Department of Computer Engineering and Computer Science, University of Louisville)"
   ]
  },
  {
   "cell_type": "code",
   "execution_count": 1,
   "metadata": {
    "collapsed": false
   },
   "outputs": [],
   "source": [
    "import glob,os,math\n",
    "import pandas as pd\n",
    "import numpy as np\n",
    "pd.set_option('display.width', 300)\n",
    "import sklearn\n",
    "%matplotlib inline\n",
    "import pylab as plt\n",
    "import seaborn as sns\n",
    "sns.set_style(\"ticks\", {'axes.facecolor': '#F7F7F7','legend.frameon': True})\n",
    "sns.set_context(\"notebook\", font_scale=1.6)\n",
    "plt.rcParams['savefig.dpi']=80\n",
    "\n",
    "from mhcpredict import base,tepitope,utilities,peptides"
   ]
  },
  {
   "cell_type": "code",
   "execution_count": 2,
   "metadata": {
    "collapsed": false
   },
   "outputs": [],
   "source": [
    "def diagonal(ax):\n",
    "    ax.set_ylim(ax.get_xlim())\n",
    "    ax.plot([0, 1], [0, 1], transform=ax.transAxes,color='red',alpha=0.7)"
   ]
  },
  {
   "cell_type": "code",
   "execution_count": 2,
   "metadata": {
    "collapsed": false
   },
   "outputs": [
    {
     "data": {
      "text/html": [
       "<div>\n",
       "<table border=\"1\" class=\"dataframe\">\n",
       "  <thead>\n",
       "    <tr style=\"text-align: right;\">\n",
       "      <th></th>\n",
       "      <th>SEQ_AA_LEN</th>\n",
       "      <th>COMP_IC50</th>\n",
       "      <th>SCORE</th>\n",
       "      <th>binder</th>\n",
       "    </tr>\n",
       "  </thead>\n",
       "  <tbody>\n",
       "    <tr>\n",
       "      <th>count</th>\n",
       "      <td>3836</td>\n",
       "      <td>3836.000000</td>\n",
       "      <td>3836.000000</td>\n",
       "      <td>3836.000000</td>\n",
       "    </tr>\n",
       "    <tr>\n",
       "      <th>mean</th>\n",
       "      <td>15</td>\n",
       "      <td>2584.657872</td>\n",
       "      <td>0.549269</td>\n",
       "      <td>0.319082</td>\n",
       "    </tr>\n",
       "    <tr>\n",
       "      <th>std</th>\n",
       "      <td>0</td>\n",
       "      <td>7543.291525</td>\n",
       "      <td>0.261631</td>\n",
       "      <td>0.466182</td>\n",
       "    </tr>\n",
       "    <tr>\n",
       "      <th>min</th>\n",
       "      <td>15</td>\n",
       "      <td>0.040621</td>\n",
       "      <td>0.006253</td>\n",
       "      <td>0.000000</td>\n",
       "    </tr>\n",
       "    <tr>\n",
       "      <th>25%</th>\n",
       "      <td>15</td>\n",
       "      <td>17.191215</td>\n",
       "      <td>0.369830</td>\n",
       "      <td>0.000000</td>\n",
       "    </tr>\n",
       "    <tr>\n",
       "      <th>50%</th>\n",
       "      <td>15</td>\n",
       "      <td>135.769487</td>\n",
       "      <td>0.546113</td>\n",
       "      <td>0.000000</td>\n",
       "    </tr>\n",
       "    <tr>\n",
       "      <th>75%</th>\n",
       "      <td>15</td>\n",
       "      <td>914.429889</td>\n",
       "      <td>0.737111</td>\n",
       "      <td>1.000000</td>\n",
       "    </tr>\n",
       "    <tr>\n",
       "      <th>max</th>\n",
       "      <td>15</td>\n",
       "      <td>46728.971960</td>\n",
       "      <td>1.296075</td>\n",
       "      <td>1.000000</td>\n",
       "    </tr>\n",
       "  </tbody>\n",
       "</table>\n",
       "</div>"
      ],
      "text/plain": [
       "       SEQ_AA_LEN     COMP_IC50        SCORE       binder\n",
       "count        3836   3836.000000  3836.000000  3836.000000\n",
       "mean           15   2584.657872     0.549269     0.319082\n",
       "std             0   7543.291525     0.261631     0.466182\n",
       "min            15      0.040621     0.006253     0.000000\n",
       "25%            15     17.191215     0.369830     0.000000\n",
       "50%            15    135.769487     0.546113     0.000000\n",
       "75%            15    914.429889     0.737111     1.000000\n",
       "max            15  46728.971960     1.296075     1.000000"
      ]
     },
     "execution_count": 2,
     "metadata": {},
     "output_type": "execute_result"
    }
   ],
   "source": [
    "#wang training data\n",
    "wang='wangdata'\n",
    "df=pd.read_csv(os.path.join(wang,'HLA-DRB1-0101.txt'),sep='\\t')\n",
    "df=df[df['SEQ_SEQUENCE'].str.len()==15]\n",
    "df['SCORE'] = 1-np.log(df.COMP_IC50)/np.log(50000)\n",
    "df['binder'] = df.SCORE.apply(lambda x: 1 if x <.42 else 0)\n",
    "df.describe()\n",
    "#df.head()"
   ]
  },
  {
   "cell_type": "code",
   "execution_count": 3,
   "metadata": {
    "collapsed": false
   },
   "outputs": [
    {
     "name": "stdout",
     "output_type": "stream",
     "text": [
      "      ALL_ALLELE  SEQ_AA_LEN     SEQ_SEQUENCE     COMP_IC50     SCORE  binder          peptide       core  score\n",
      "0  HLA DRB1*0101          15  CTGMLKRRLGLMSLS      2.130365  0.930101       0  CTGMLKRRLGLMSLS  CTGMLKRRL  -0.41\n",
      "1  HLA DRB1*0101          15  LVPVVDGRSNYNTSF  46728.971960  0.006253       1  LVPVVDGRSNYNTSF  VPVVDGRSN  -2.46\n",
      "2  HLA DRB1*0101          15  LDLGGFSPELSDKYS   6286.506691  0.191651       1  LDLGGFSPELSDKYS  LGGFSPELS  -1.32\n",
      "3  HLA DRB1*0101          15  LNSYGSFQEFRSNHP   2935.869146  0.262022       1  LNSYGSFQEFRSNHP  FQEFRSNHP  -1.52\n",
      "4  HLA DRB1*0101          15  EEMINWLNFDSELVR     43.008929  0.652358       0  EEMINWLNFDSELVR  WLNFDSELV   0.68\n",
      "5  HLA DRB1*0101          15  CAEMLSWLDFDEKLV    155.312876  0.533683       0  CAEMLSWLDFDEKLV  WLDFDEKLV  -2.52\n",
      "6  HLA DRB1*0101          15  TVKYPNLNDLEKLKD  26608.014520  0.058302       1  TVKYPNLNDLEKLKD  VKYPNLNDL  -2.40\n",
      "7  HLA DRB1*0101          15  QYAGCSEDEIRQTLD   2847.255948  0.264855       1  QYAGCSEDEIRQTLD  YAGCSEDEI  -3.50\n",
      "8  HLA DRB1*0101          15  EGSTELSPLYFTSAI    517.506858  0.422444       0  EGSTELSPLYFTSAI  LSPLYFTSA  -2.11\n",
      "9  HLA DRB1*0101          15  HLVPFMNDLQVSRTT     63.344407  0.616574       0  HLVPFMNDLQVSRTT  VPFMNDLQV  -2.00\n"
     ]
    }
   ],
   "source": [
    "#get binding cores\n",
    "p=df['SEQ_SEQUENCE'].values\n",
    "# using tepitope scores\n",
    "pred=base.TEpitopePredictor()\n",
    "pred.predict(peptides=p,length=15,name='test')\n",
    "res=pred.data[['peptide','core','score']]\n",
    "dfc = pd.merge(df,res,left_on='SEQ_SEQUENCE',right_on='peptide')\n",
    "print dfc[:10]\n",
    "\n",
    "#using gibbs sampling?\n"
   ]
  },
  {
   "cell_type": "code",
   "execution_count": 5,
   "metadata": {
    "collapsed": false
   },
   "outputs": [],
   "source": [
    "#encode a sequence using OE\n",
    "codes = ['A', 'C', 'D', 'E', 'F', 'G', 'H', 'I', 'K', 'L',\n",
    "         'M', 'N', 'P', 'Q', 'R', 'S', 'T', 'V', 'W', 'Y']\n",
    "tvd=pd.read_csv('TVD.csv') #combine physicochemical properties\n",
    "def encodePeptide(seq):       \n",
    "    s=list(seq)\n",
    "    #add other aas\n",
    "    o = list(set(codes) - set(s))\n",
    "    s = pd.DataFrame(list(seq)+o)\n",
    "    s = pd.get_dummies(s)[:15]\n",
    "    s.columns=codes\n",
    "    #print s    \n",
    "    s2=tvd.set_index('Property')\n",
    "    s = pd.concat([s,s2])\n",
    "    e = s.values.flatten()    \n",
    "    return e\n",
    "seq = 'ATGMLKRLLGLMSLA'\n",
    "e = encodePeptide(seq)\n",
    "#clf.predict(e)"
   ]
  },
  {
   "cell_type": "code",
   "execution_count": 6,
   "metadata": {
    "collapsed": false
   },
   "outputs": [],
   "source": [
    "#encode using blosum\n",
    "from Bio.SubsMat import MatrixInfo\n",
    "blosum = MatrixInfo.blosum62\n",
    "#print blosum\n",
    "def freqEncodePeptide(seq):       \n",
    "    s=list(seq)   \n",
    "    o = list(set(codes) - set(s))\n",
    "    s = pd.DataFrame(list(seq)+o)\n",
    "    #print s\n",
    "    s = pd.get_dummies(s)[:15] \n",
    "    s.columns=codes\n",
    "    #print s\n",
    "    #s.replace(blosum)\n",
    "    e = s.values.flatten()\n",
    "    return e\n",
    "seq = 'ATGMLKRLLGLMSLA'\n",
    "e = freqEncodePeptide(seq)"
   ]
  },
  {
   "cell_type": "code",
   "execution_count": 7,
   "metadata": {
    "collapsed": false
   },
   "outputs": [
    {
     "name": "stdout",
     "output_type": "stream",
     "text": [
      "   0  1  2  3  4  5  6  7  8\n",
      "0  C  T  G  M  L  K  R  R  L\n",
      "1  V  P  V  V  D  G  R  S  N\n",
      "2  L  G  G  F  S  P  E  L  S\n",
      "3  F  Q  E  F  R  S  N  H  P\n",
      "4  W  L  N  F  D  S  E  L  V\n"
     ]
    }
   ],
   "source": [
    "#tvd.set_index('Property')\n",
    "t = tvd.drop('Property',1).T\n",
    "#print t\n",
    "\n",
    "def splitpepstring(x):\n",
    "    s=pd.Series(list(x[:15])) \n",
    "    return s\n",
    "\n",
    "def encode(r):\n",
    "    \"\"\"encode sequence positions\"\"\"\n",
    "    o = list(set(codes) - set(r))\n",
    "    r = pd.DataFrame(list(r)+o)\n",
    "    s = pd.get_dummies(r)[:15]\n",
    "    #print s.index\n",
    "    e = pd.Series(s.values.flatten())      \n",
    "    return e\n",
    "\n",
    "def encodetvd(x):\n",
    "    \"\"\"encode physiochemical props\"\"\"\n",
    "    s = t.ix[list(x)] \n",
    "    e = pd.Series(s.values.flatten())\n",
    "    return e\n",
    "\n",
    "#encode peptides\n",
    "#x = df['SEQ_SEQUENCE'].apply(splitpepstring)\n",
    "x = dfc['core'].apply(splitpepstring)\n",
    "print x.head()\n",
    "#oe = x.apply(encode,1)\n",
    "tvde = x.apply(encodetvd,1)\n",
    "\n",
    "#x = oe.merge(tvde,left_index=True,right_index=True)\n"
   ]
  },
  {
   "cell_type": "code",
   "execution_count": 68,
   "metadata": {
    "collapsed": false
   },
   "outputs": [
    {
     "name": "stdout",
     "output_type": "stream",
     "text": [
      "   0_A  0_C  0_D  0_E  0_F  0_G  0_H  0_I  0_K  0_L  ...   14_M  14_N  14_P  14_Q  14_R  14_S  14_T  14_V  14_W  14_Y\n",
      "0    0    1    0    0    0    0    0    0    0    0  ...      0     0     0     0     0     1     0     0     0     0\n",
      "1    0    0    0    0    0    0    0    0    0    1  ...      0     0     0     0     0     0     0     0     0     0\n",
      "2    0    0    0    0    0    0    0    0    0    1  ...      0     0     0     0     0     1     0     0     0     0\n",
      "3    0    0    0    0    0    0    0    0    0    1  ...      0     0     1     0     0     0     0     0     0     0\n",
      "4    0    0    0    1    0    0    0    0    0    0  ...      0     0     0     0     1     0     0     0     0     0\n",
      "\n",
      "[5 rows x 300 columns]\n",
      "LinearRegression(copy_X=True, fit_intercept=True, n_jobs=1, normalize=False)\n",
      "LinearSVR(C=1.0, dual=True, epsilon=0.0, fit_intercept=False,\n",
      "     intercept_scaling=1.0, loss='epsilon_insensitive', max_iter=1000,\n",
      "     random_state=None, tol=0.0001, verbose=0)\n"
     ]
    }
   ],
   "source": [
    "x = df['SEQ_SEQUENCE'].apply(splitpepstring)\n",
    "#x = tvde\n",
    "#x = dfc['core'].apply(splitpepstring)\n",
    "#tvde = x.apply(encodetvd,1)\n",
    "x = pd.get_dummies(x)\n",
    "#x = x.merge(tvde,left_index=True,right_index=True)\n",
    "\n",
    "print x.head()\n",
    "X=x.values\n",
    "y=df.SCORE.values\n",
    "lbls = df.binder.values\n",
    "\n",
    "from sklearn import linear_model\n",
    "from sklearn import svm\n",
    "r1 = linear_model.LinearRegression()\n",
    "r2 = svm.LinearSVR(fit_intercept=False)\n",
    "c1 = linear_model.LogisticRegression()\n",
    "#c1 = svm.SVC()\n",
    "\n",
    "#from sklearn import tree\n",
    "#clf = tree.DecisionTreeRegressor()\n",
    "\n",
    "#Xtrain = X[2500:]\n",
    "#ytrain = y[2500:]\n",
    "#r1.fit(Xtrain, ytrain)\n",
    "#r2.fit(Xtrain, ytrain)\n",
    "print r1\n",
    "print r2\n"
   ]
  },
  {
   "cell_type": "code",
   "execution_count": 8,
   "metadata": {
    "collapsed": false
   },
   "outputs": [
    {
     "ename": "NameError",
     "evalue": "name 'r1' is not defined",
     "output_type": "error",
     "traceback": [
      "\u001b[1;31m---------------------------------------------------------------------------\u001b[0m",
      "\u001b[1;31mNameError\u001b[0m                                 Traceback (most recent call last)",
      "\u001b[1;32m<ipython-input-8-3bbf3f2bbfdf>\u001b[0m in \u001b[0;36m<module>\u001b[1;34m()\u001b[0m\n\u001b[0;32m     35\u001b[0m     \u001b[1;31m#print scores\u001b[0m\u001b[1;33m\u001b[0m\u001b[1;33m\u001b[0m\u001b[0m\n\u001b[0;32m     36\u001b[0m \u001b[1;33m\u001b[0m\u001b[0m\n\u001b[1;32m---> 37\u001b[1;33m \u001b[0mtestRegr\u001b[0m\u001b[1;33m(\u001b[0m\u001b[0mr1\u001b[0m\u001b[1;33m,\u001b[0m \u001b[0mX\u001b[0m\u001b[1;33m,\u001b[0m \u001b[0my\u001b[0m\u001b[1;33m)\u001b[0m\u001b[1;33m\u001b[0m\u001b[0m\n\u001b[0m\u001b[0;32m     38\u001b[0m \u001b[0mtestRegr\u001b[0m\u001b[1;33m(\u001b[0m\u001b[0mr2\u001b[0m\u001b[1;33m,\u001b[0m \u001b[0mX\u001b[0m\u001b[1;33m,\u001b[0m \u001b[0my\u001b[0m\u001b[1;33m)\u001b[0m\u001b[1;33m\u001b[0m\u001b[0m\n\u001b[0;32m     39\u001b[0m \u001b[1;31m#testClf(c1, X, lbls)\u001b[0m\u001b[1;33m\u001b[0m\u001b[1;33m\u001b[0m\u001b[0m\n",
      "\u001b[1;31mNameError\u001b[0m: name 'r1' is not defined"
     ]
    }
   ],
   "source": [
    "from sklearn import cross_validation\n",
    "#prediction\n",
    "def predict(x,i):\n",
    "    t=x.values[i]\n",
    "    #print x[:2]\n",
    "    #print x.values[i]\n",
    "    print r1.predict(t)\n",
    "\n",
    "#predict(x,0)\n",
    "\n",
    "def testClf(clf, X, y):\n",
    "    \"\"\"test classifier\"\"\"\n",
    "    Xtrain, Xtest, ytrain, ytest = cross_validation.train_test_split(X, y, test_size=0.2)  \n",
    "    scores = cross_validation.cross_val_score(clf, X, y, cv=10, scoring='roc_auc')\n",
    "    print scores\n",
    "    print 'mean auc:', np.mean(scores)\n",
    "    return\n",
    "    \n",
    "def testRegr(r, X, y): \n",
    "    \"\"\"test regression\"\"\"\n",
    "    print r\n",
    "    Xtrain, Xtest, ytrain, ytest = cross_validation.train_test_split(X, y, test_size=0.2)    \n",
    "    r.fit(Xtrain, ytrain)    \n",
    "    f,ax=plt.subplots(figsize=(5,5))\n",
    "    pred = r.predict(Xtest)\n",
    "    ax.scatter(ytest, pred, linewidth=1, alpha=0.5)\n",
    "    ax.set_title(str(r)[:10])\n",
    "    diagonal(ax)\n",
    "    #auc\n",
    "    true = pd.Series(ytest).apply(lambda x: 1 if x <.42 else 0)\n",
    "    score = pd.Series(pred).apply(lambda x: 1 if x <.42 else 0)\n",
    "    print 'auc:',sklearn.metrics.roc_auc_score(true, score)\n",
    "    sklearn.metrics.roc_curve(true, score, pos_label=1)    \n",
    "    #scores = cross_validation.cross_val_score(r, X, true, cv=5, scoring='roc_auc')\n",
    "    #print scores\n",
    "\n",
    "testRegr(r1, X, y)\n",
    "testRegr(r2, X, y)\n",
    "#testClf(c1, X, lbls)\n"
   ]
  },
  {
   "cell_type": "code",
   "execution_count": 58,
   "metadata": {
    "collapsed": false
   },
   "outputs": [],
   "source": [
    "def getScores(sequence, regr):\n",
    "    \"\"\"Score multiple fragments of a sequence\"\"\"\n",
    "\n",
    "    peptide, s = peptides.createFragments(seq=sequence, length=15)\n",
    "    scores=[]\n",
    "    pos=0\n",
    "    for p in peptide: \n",
    "        e = encodePeptide(p)\n",
    "        sc = regr.predict(e)[0]        \n",
    "        scores.append((p,pos,sc))\n",
    "        pos+=1\n",
    "    return scores"
   ]
  },
  {
   "cell_type": "code",
   "execution_count": 11,
   "metadata": {
    "collapsed": true
   },
   "outputs": [
    {
     "ename": "ValueError",
     "evalue": "objects are not aligned",
     "output_type": "error",
     "traceback": [
      "\u001b[0;31m---------------------------------------------------------------------------\u001b[0m\n\u001b[0;31mValueError\u001b[0m                                Traceback (most recent call last)",
      "\u001b[0;32m<ipython-input-11-3dd995b4418d>\u001b[0m in \u001b[0;36m<module>\u001b[0;34m()\u001b[0m\n\u001b[1;32m      3\u001b[0m \u001b[0mrec\u001b[0m \u001b[0;34m=\u001b[0m \u001b[0mSeqIO\u001b[0m\u001b[0;34m.\u001b[0m\u001b[0mread\u001b[0m\u001b[0;34m(\u001b[0m\u001b[0mopen\u001b[0m\u001b[0;34m(\u001b[0m\u001b[0;34m\"test.fa\"\u001b[0m\u001b[0;34m,\u001b[0m \u001b[0;34m\"rU\"\u001b[0m\u001b[0;34m)\u001b[0m\u001b[0;34m,\u001b[0m \u001b[0;34m\"fasta\"\u001b[0m\u001b[0;34m)\u001b[0m\u001b[0;34m\u001b[0m\u001b[0m\n\u001b[1;32m      4\u001b[0m \u001b[0mseq\u001b[0m \u001b[0;34m=\u001b[0m \u001b[0mstr\u001b[0m\u001b[0;34m(\u001b[0m\u001b[0mrec\u001b[0m\u001b[0;34m.\u001b[0m\u001b[0mseq\u001b[0m\u001b[0;34m)\u001b[0m\u001b[0;34m\u001b[0m\u001b[0m\n\u001b[0;32m----> 5\u001b[0;31m \u001b[0msc\u001b[0m \u001b[0;34m=\u001b[0m \u001b[0mgetScores\u001b[0m\u001b[0;34m(\u001b[0m\u001b[0mseq\u001b[0m\u001b[0;34m,\u001b[0m \u001b[0mr2\u001b[0m\u001b[0;34m)\u001b[0m\u001b[0;34m\u001b[0m\u001b[0m\n\u001b[0m\u001b[1;32m      6\u001b[0m \u001b[0mres\u001b[0m\u001b[0;34m=\u001b[0m\u001b[0mpd\u001b[0m\u001b[0;34m.\u001b[0m\u001b[0mDataFrame\u001b[0m\u001b[0;34m(\u001b[0m\u001b[0msc\u001b[0m\u001b[0;34m,\u001b[0m\u001b[0mcolumns\u001b[0m\u001b[0;34m=\u001b[0m\u001b[0;34m[\u001b[0m\u001b[0;34m'sequence'\u001b[0m\u001b[0;34m,\u001b[0m\u001b[0;34m'pos'\u001b[0m\u001b[0;34m,\u001b[0m\u001b[0;34m'score'\u001b[0m\u001b[0;34m]\u001b[0m\u001b[0;34m)\u001b[0m\u001b[0;34m\u001b[0m\u001b[0m\n\u001b[1;32m      7\u001b[0m \u001b[0mres\u001b[0m\u001b[0;34m.\u001b[0m\u001b[0msort\u001b[0m\u001b[0;34m(\u001b[0m\u001b[0;34m'score'\u001b[0m\u001b[0;34m,\u001b[0m\u001b[0mascending\u001b[0m\u001b[0;34m=\u001b[0m\u001b[0mFalse\u001b[0m\u001b[0;34m)\u001b[0m\u001b[0;34m[\u001b[0m\u001b[0;34m:\u001b[0m\u001b[0;36m10\u001b[0m\u001b[0;34m]\u001b[0m\u001b[0;34m\u001b[0m\u001b[0m\n",
      "\u001b[0;32m<ipython-input-10-0144c1e1e562>\u001b[0m in \u001b[0;36mgetScores\u001b[0;34m(sequence, regr)\u001b[0m\n\u001b[1;32m      7\u001b[0m     \u001b[0;32mfor\u001b[0m \u001b[0mp\u001b[0m \u001b[0;32min\u001b[0m \u001b[0mpeptide\u001b[0m\u001b[0;34m:\u001b[0m\u001b[0;34m\u001b[0m\u001b[0m\n\u001b[1;32m      8\u001b[0m         \u001b[0me\u001b[0m \u001b[0;34m=\u001b[0m \u001b[0mencodePeptide\u001b[0m\u001b[0;34m(\u001b[0m\u001b[0mp\u001b[0m\u001b[0;34m)\u001b[0m\u001b[0;34m\u001b[0m\u001b[0m\n\u001b[0;32m----> 9\u001b[0;31m         \u001b[0msc\u001b[0m \u001b[0;34m=\u001b[0m \u001b[0mregr\u001b[0m\u001b[0;34m.\u001b[0m\u001b[0mpredict\u001b[0m\u001b[0;34m(\u001b[0m\u001b[0me\u001b[0m\u001b[0;34m)\u001b[0m\u001b[0;34m[\u001b[0m\u001b[0;36m0\u001b[0m\u001b[0;34m]\u001b[0m\u001b[0;34m\u001b[0m\u001b[0m\n\u001b[0m\u001b[1;32m     10\u001b[0m         \u001b[0mscores\u001b[0m\u001b[0;34m.\u001b[0m\u001b[0mappend\u001b[0m\u001b[0;34m(\u001b[0m\u001b[0;34m(\u001b[0m\u001b[0mp\u001b[0m\u001b[0;34m,\u001b[0m\u001b[0mpos\u001b[0m\u001b[0;34m,\u001b[0m\u001b[0msc\u001b[0m\u001b[0;34m)\u001b[0m\u001b[0;34m)\u001b[0m\u001b[0;34m\u001b[0m\u001b[0m\n\u001b[1;32m     11\u001b[0m         \u001b[0mpos\u001b[0m\u001b[0;34m+=\u001b[0m\u001b[0;36m1\u001b[0m\u001b[0;34m\u001b[0m\u001b[0m\n",
      "\u001b[0;32m/usr/local/lib/python2.7/dist-packages/scikit_learn-0.16.1-py2.7-linux-x86_64.egg/sklearn/linear_model/base.pyc\u001b[0m in \u001b[0;36mpredict\u001b[0;34m(self, X)\u001b[0m\n\u001b[1;32m    153\u001b[0m             \u001b[0mReturns\u001b[0m \u001b[0mpredicted\u001b[0m \u001b[0mvalues\u001b[0m\u001b[0;34m.\u001b[0m\u001b[0;34m\u001b[0m\u001b[0m\n\u001b[1;32m    154\u001b[0m         \"\"\"\n\u001b[0;32m--> 155\u001b[0;31m         \u001b[0;32mreturn\u001b[0m \u001b[0mself\u001b[0m\u001b[0;34m.\u001b[0m\u001b[0mdecision_function\u001b[0m\u001b[0;34m(\u001b[0m\u001b[0mX\u001b[0m\u001b[0;34m)\u001b[0m\u001b[0;34m\u001b[0m\u001b[0m\n\u001b[0m\u001b[1;32m    156\u001b[0m \u001b[0;34m\u001b[0m\u001b[0m\n\u001b[1;32m    157\u001b[0m     \u001b[0m_center_data\u001b[0m \u001b[0;34m=\u001b[0m \u001b[0mstaticmethod\u001b[0m\u001b[0;34m(\u001b[0m\u001b[0mcenter_data\u001b[0m\u001b[0;34m)\u001b[0m\u001b[0;34m\u001b[0m\u001b[0m\n",
      "\u001b[0;32m/usr/local/lib/python2.7/dist-packages/scikit_learn-0.16.1-py2.7-linux-x86_64.egg/sklearn/linear_model/base.pyc\u001b[0m in \u001b[0;36mdecision_function\u001b[0;34m(self, X)\u001b[0m\n\u001b[1;32m    138\u001b[0m         \u001b[0mX\u001b[0m \u001b[0;34m=\u001b[0m \u001b[0mcheck_array\u001b[0m\u001b[0;34m(\u001b[0m\u001b[0mX\u001b[0m\u001b[0;34m,\u001b[0m \u001b[0maccept_sparse\u001b[0m\u001b[0;34m=\u001b[0m\u001b[0;34m[\u001b[0m\u001b[0;34m'csr'\u001b[0m\u001b[0;34m,\u001b[0m \u001b[0;34m'csc'\u001b[0m\u001b[0;34m,\u001b[0m \u001b[0;34m'coo'\u001b[0m\u001b[0;34m]\u001b[0m\u001b[0;34m)\u001b[0m\u001b[0;34m\u001b[0m\u001b[0m\n\u001b[1;32m    139\u001b[0m         return safe_sparse_dot(X, self.coef_.T,\n\u001b[0;32m--> 140\u001b[0;31m                                dense_output=True) + self.intercept_\n\u001b[0m\u001b[1;32m    141\u001b[0m \u001b[0;34m\u001b[0m\u001b[0m\n\u001b[1;32m    142\u001b[0m     \u001b[0;32mdef\u001b[0m \u001b[0mpredict\u001b[0m\u001b[0;34m(\u001b[0m\u001b[0mself\u001b[0m\u001b[0;34m,\u001b[0m \u001b[0mX\u001b[0m\u001b[0;34m)\u001b[0m\u001b[0;34m:\u001b[0m\u001b[0;34m\u001b[0m\u001b[0m\n",
      "\u001b[0;32m/usr/local/lib/python2.7/dist-packages/scikit_learn-0.16.1-py2.7-linux-x86_64.egg/sklearn/utils/extmath.pyc\u001b[0m in \u001b[0;36msafe_sparse_dot\u001b[0;34m(a, b, dense_output)\u001b[0m\n\u001b[1;32m    181\u001b[0m         \u001b[0;32mreturn\u001b[0m \u001b[0mret\u001b[0m\u001b[0;34m\u001b[0m\u001b[0m\n\u001b[1;32m    182\u001b[0m     \u001b[0;32melse\u001b[0m\u001b[0;34m:\u001b[0m\u001b[0;34m\u001b[0m\u001b[0m\n\u001b[0;32m--> 183\u001b[0;31m         \u001b[0;32mreturn\u001b[0m \u001b[0mfast_dot\u001b[0m\u001b[0;34m(\u001b[0m\u001b[0ma\u001b[0m\u001b[0;34m,\u001b[0m \u001b[0mb\u001b[0m\u001b[0;34m)\u001b[0m\u001b[0;34m\u001b[0m\u001b[0m\n\u001b[0m\u001b[1;32m    184\u001b[0m \u001b[0;34m\u001b[0m\u001b[0m\n\u001b[1;32m    185\u001b[0m \u001b[0;34m\u001b[0m\u001b[0m\n",
      "\u001b[0;31mValueError\u001b[0m: objects are not aligned"
     ]
    }
   ],
   "source": [
    "r1.fit(X, y)\n",
    "from Bio import SeqIO\n",
    "rec = SeqIO.read(open(\"test.fa\", \"rU\"), \"fasta\")\n",
    "seq = str(rec.seq)\n",
    "sc = getScores(seq, r2)\n",
    "res=pd.DataFrame(sc,columns=['sequence','pos','score'])\n",
    "res.sort('score',ascending=False)[:10]"
   ]
  },
  {
   "cell_type": "code",
   "execution_count": 70,
   "metadata": {
    "collapsed": false
   },
   "outputs": [
    {
     "name": "stdout",
     "output_type": "stream",
     "text": [
      "netMHCIIpan -s -length 15 -a DRB1_0101 -f tempseq.fa\n"
     ]
    }
   ],
   "source": [
    "pred=base.NetMHCIIPanPredictor()\n",
    "pred.predict(sequence=seq,length=15,name='test')\n",
    "res2=pred.data"
   ]
  },
  {
   "cell_type": "code",
   "execution_count": 116,
   "metadata": {
    "collapsed": true
   },
   "outputs": [
    {
     "ename": "KeyError",
     "evalue": "'pos'",
     "output_type": "error",
     "traceback": [
      "\u001b[0;31m---------------------------------------------------------------------------\u001b[0m\n\u001b[0;31mKeyError\u001b[0m                                  Traceback (most recent call last)",
      "\u001b[0;32m<ipython-input-116-44d33880db13>\u001b[0m in \u001b[0;36m<module>\u001b[0;34m()\u001b[0m\n\u001b[1;32m      1\u001b[0m \u001b[0mres2\u001b[0m\u001b[0;34m\u001b[0m\u001b[0m\n\u001b[0;32m----> 2\u001b[0;31m \u001b[0my\u001b[0m\u001b[0;34m=\u001b[0m\u001b[0mres\u001b[0m\u001b[0;34m.\u001b[0m\u001b[0msort\u001b[0m\u001b[0;34m(\u001b[0m\u001b[0;34m'pos'\u001b[0m\u001b[0;34m)\u001b[0m\u001b[0;34m\u001b[0m\u001b[0m\n\u001b[0m\u001b[1;32m      3\u001b[0m \u001b[0mx\u001b[0m\u001b[0;34m=\u001b[0m\u001b[0mres2\u001b[0m\u001b[0;34m.\u001b[0m\u001b[0msort\u001b[0m\u001b[0;34m(\u001b[0m\u001b[0;34m'pos'\u001b[0m\u001b[0;34m)\u001b[0m\u001b[0;34m\u001b[0m\u001b[0m\n\u001b[1;32m      4\u001b[0m \u001b[0mf\u001b[0m\u001b[0;34m,\u001b[0m\u001b[0max\u001b[0m\u001b[0;34m=\u001b[0m\u001b[0mplt\u001b[0m\u001b[0;34m.\u001b[0m\u001b[0msubplots\u001b[0m\u001b[0;34m(\u001b[0m\u001b[0mfigsize\u001b[0m\u001b[0;34m=\u001b[0m\u001b[0;34m(\u001b[0m\u001b[0;36m6\u001b[0m\u001b[0;34m,\u001b[0m\u001b[0;36m6\u001b[0m\u001b[0;34m)\u001b[0m\u001b[0;34m)\u001b[0m\u001b[0;34m\u001b[0m\u001b[0m\n\u001b[1;32m      5\u001b[0m \u001b[0max\u001b[0m\u001b[0;34m.\u001b[0m\u001b[0mscatter\u001b[0m\u001b[0;34m(\u001b[0m\u001b[0mx\u001b[0m\u001b[0;34m[\u001b[0m\u001b[0;34m'1-log50k(aff)'\u001b[0m\u001b[0;34m]\u001b[0m\u001b[0;34m,\u001b[0m\u001b[0my\u001b[0m\u001b[0;34m.\u001b[0m\u001b[0mscore\u001b[0m\u001b[0;34m,\u001b[0m\u001b[0mc\u001b[0m\u001b[0;34m=\u001b[0m\u001b[0;34m'seagreen'\u001b[0m\u001b[0;34m)\u001b[0m\u001b[0;34m\u001b[0m\u001b[0m\n",
      "\u001b[0;32m/usr/local/lib/python2.7/dist-packages/pandas-0.16.0-py2.7-linux-x86_64.egg/pandas/core/frame.pyc\u001b[0m in \u001b[0;36msort\u001b[0;34m(self, columns, axis, ascending, inplace, kind, na_position)\u001b[0m\n\u001b[1;32m   2889\u001b[0m         \"\"\"\n\u001b[1;32m   2890\u001b[0m         return self.sort_index(by=columns, axis=axis, ascending=ascending,\n\u001b[0;32m-> 2891\u001b[0;31m                                inplace=inplace, kind=kind, na_position=na_position)\n\u001b[0m\u001b[1;32m   2892\u001b[0m \u001b[0;34m\u001b[0m\u001b[0m\n\u001b[1;32m   2893\u001b[0m     def sort_index(self, axis=0, by=None, ascending=True, inplace=False,\n",
      "\u001b[0;32m/usr/local/lib/python2.7/dist-packages/pandas-0.16.0-py2.7-linux-x86_64.egg/pandas/core/frame.pyc\u001b[0m in \u001b[0;36msort_index\u001b[0;34m(self, axis, by, ascending, inplace, kind, na_position)\u001b[0m\n\u001b[1;32m   2957\u001b[0m             \u001b[0;32melse\u001b[0m\u001b[0;34m:\u001b[0m\u001b[0;34m\u001b[0m\u001b[0m\n\u001b[1;32m   2958\u001b[0m                 \u001b[0mby\u001b[0m \u001b[0;34m=\u001b[0m \u001b[0mby\u001b[0m\u001b[0;34m[\u001b[0m\u001b[0;36m0\u001b[0m\u001b[0;34m]\u001b[0m\u001b[0;34m\u001b[0m\u001b[0m\n\u001b[0;32m-> 2959\u001b[0;31m                 \u001b[0mk\u001b[0m \u001b[0;34m=\u001b[0m \u001b[0mself\u001b[0m\u001b[0;34m[\u001b[0m\u001b[0mby\u001b[0m\u001b[0;34m]\u001b[0m\u001b[0;34m.\u001b[0m\u001b[0mvalues\u001b[0m\u001b[0;34m\u001b[0m\u001b[0m\n\u001b[0m\u001b[1;32m   2960\u001b[0m                 \u001b[0;32mif\u001b[0m \u001b[0mk\u001b[0m\u001b[0;34m.\u001b[0m\u001b[0mndim\u001b[0m \u001b[0;34m==\u001b[0m \u001b[0;36m2\u001b[0m\u001b[0;34m:\u001b[0m\u001b[0;34m\u001b[0m\u001b[0m\n\u001b[1;32m   2961\u001b[0m \u001b[0;34m\u001b[0m\u001b[0m\n",
      "\u001b[0;32m/usr/local/lib/python2.7/dist-packages/pandas-0.16.0-py2.7-linux-x86_64.egg/pandas/core/frame.pyc\u001b[0m in \u001b[0;36m__getitem__\u001b[0;34m(self, key)\u001b[0m\n\u001b[1;32m   1785\u001b[0m             \u001b[0;32mreturn\u001b[0m \u001b[0mself\u001b[0m\u001b[0;34m.\u001b[0m\u001b[0m_getitem_multilevel\u001b[0m\u001b[0;34m(\u001b[0m\u001b[0mkey\u001b[0m\u001b[0;34m)\u001b[0m\u001b[0;34m\u001b[0m\u001b[0m\n\u001b[1;32m   1786\u001b[0m         \u001b[0;32melse\u001b[0m\u001b[0;34m:\u001b[0m\u001b[0;34m\u001b[0m\u001b[0m\n\u001b[0;32m-> 1787\u001b[0;31m             \u001b[0;32mreturn\u001b[0m \u001b[0mself\u001b[0m\u001b[0;34m.\u001b[0m\u001b[0m_getitem_column\u001b[0m\u001b[0;34m(\u001b[0m\u001b[0mkey\u001b[0m\u001b[0;34m)\u001b[0m\u001b[0;34m\u001b[0m\u001b[0m\n\u001b[0m\u001b[1;32m   1788\u001b[0m \u001b[0;34m\u001b[0m\u001b[0m\n\u001b[1;32m   1789\u001b[0m     \u001b[0;32mdef\u001b[0m \u001b[0m_getitem_column\u001b[0m\u001b[0;34m(\u001b[0m\u001b[0mself\u001b[0m\u001b[0;34m,\u001b[0m \u001b[0mkey\u001b[0m\u001b[0;34m)\u001b[0m\u001b[0;34m:\u001b[0m\u001b[0;34m\u001b[0m\u001b[0m\n",
      "\u001b[0;32m/usr/local/lib/python2.7/dist-packages/pandas-0.16.0-py2.7-linux-x86_64.egg/pandas/core/frame.pyc\u001b[0m in \u001b[0;36m_getitem_column\u001b[0;34m(self, key)\u001b[0m\n\u001b[1;32m   1792\u001b[0m         \u001b[0;31m# get column\u001b[0m\u001b[0;34m\u001b[0m\u001b[0;34m\u001b[0m\u001b[0m\n\u001b[1;32m   1793\u001b[0m         \u001b[0;32mif\u001b[0m \u001b[0mself\u001b[0m\u001b[0;34m.\u001b[0m\u001b[0mcolumns\u001b[0m\u001b[0;34m.\u001b[0m\u001b[0mis_unique\u001b[0m\u001b[0;34m:\u001b[0m\u001b[0;34m\u001b[0m\u001b[0m\n\u001b[0;32m-> 1794\u001b[0;31m             \u001b[0;32mreturn\u001b[0m \u001b[0mself\u001b[0m\u001b[0;34m.\u001b[0m\u001b[0m_get_item_cache\u001b[0m\u001b[0;34m(\u001b[0m\u001b[0mkey\u001b[0m\u001b[0;34m)\u001b[0m\u001b[0;34m\u001b[0m\u001b[0m\n\u001b[0m\u001b[1;32m   1795\u001b[0m \u001b[0;34m\u001b[0m\u001b[0m\n\u001b[1;32m   1796\u001b[0m         \u001b[0;31m# duplicate columns & possible reduce dimensionaility\u001b[0m\u001b[0;34m\u001b[0m\u001b[0;34m\u001b[0m\u001b[0m\n",
      "\u001b[0;32m/usr/local/lib/python2.7/dist-packages/pandas-0.16.0-py2.7-linux-x86_64.egg/pandas/core/generic.pyc\u001b[0m in \u001b[0;36m_get_item_cache\u001b[0;34m(self, item)\u001b[0m\n\u001b[1;32m   1077\u001b[0m         \u001b[0mres\u001b[0m \u001b[0;34m=\u001b[0m \u001b[0mcache\u001b[0m\u001b[0;34m.\u001b[0m\u001b[0mget\u001b[0m\u001b[0;34m(\u001b[0m\u001b[0mitem\u001b[0m\u001b[0;34m)\u001b[0m\u001b[0;34m\u001b[0m\u001b[0m\n\u001b[1;32m   1078\u001b[0m         \u001b[0;32mif\u001b[0m \u001b[0mres\u001b[0m \u001b[0;32mis\u001b[0m \u001b[0mNone\u001b[0m\u001b[0;34m:\u001b[0m\u001b[0;34m\u001b[0m\u001b[0m\n\u001b[0;32m-> 1079\u001b[0;31m             \u001b[0mvalues\u001b[0m \u001b[0;34m=\u001b[0m \u001b[0mself\u001b[0m\u001b[0;34m.\u001b[0m\u001b[0m_data\u001b[0m\u001b[0;34m.\u001b[0m\u001b[0mget\u001b[0m\u001b[0;34m(\u001b[0m\u001b[0mitem\u001b[0m\u001b[0;34m)\u001b[0m\u001b[0;34m\u001b[0m\u001b[0m\n\u001b[0m\u001b[1;32m   1080\u001b[0m             \u001b[0mres\u001b[0m \u001b[0;34m=\u001b[0m \u001b[0mself\u001b[0m\u001b[0;34m.\u001b[0m\u001b[0m_box_item_values\u001b[0m\u001b[0;34m(\u001b[0m\u001b[0mitem\u001b[0m\u001b[0;34m,\u001b[0m \u001b[0mvalues\u001b[0m\u001b[0;34m)\u001b[0m\u001b[0;34m\u001b[0m\u001b[0m\n\u001b[1;32m   1081\u001b[0m             \u001b[0mcache\u001b[0m\u001b[0;34m[\u001b[0m\u001b[0mitem\u001b[0m\u001b[0;34m]\u001b[0m \u001b[0;34m=\u001b[0m \u001b[0mres\u001b[0m\u001b[0;34m\u001b[0m\u001b[0m\n",
      "\u001b[0;32m/usr/local/lib/python2.7/dist-packages/pandas-0.16.0-py2.7-linux-x86_64.egg/pandas/core/internals.pyc\u001b[0m in \u001b[0;36mget\u001b[0;34m(self, item, fastpath)\u001b[0m\n\u001b[1;32m   2841\u001b[0m \u001b[0;34m\u001b[0m\u001b[0m\n\u001b[1;32m   2842\u001b[0m             \u001b[0;32mif\u001b[0m \u001b[0;32mnot\u001b[0m \u001b[0misnull\u001b[0m\u001b[0;34m(\u001b[0m\u001b[0mitem\u001b[0m\u001b[0;34m)\u001b[0m\u001b[0;34m:\u001b[0m\u001b[0;34m\u001b[0m\u001b[0m\n\u001b[0;32m-> 2843\u001b[0;31m                 \u001b[0mloc\u001b[0m \u001b[0;34m=\u001b[0m \u001b[0mself\u001b[0m\u001b[0;34m.\u001b[0m\u001b[0mitems\u001b[0m\u001b[0;34m.\u001b[0m\u001b[0mget_loc\u001b[0m\u001b[0;34m(\u001b[0m\u001b[0mitem\u001b[0m\u001b[0;34m)\u001b[0m\u001b[0;34m\u001b[0m\u001b[0m\n\u001b[0m\u001b[1;32m   2844\u001b[0m             \u001b[0;32melse\u001b[0m\u001b[0;34m:\u001b[0m\u001b[0;34m\u001b[0m\u001b[0m\n\u001b[1;32m   2845\u001b[0m                 \u001b[0mindexer\u001b[0m \u001b[0;34m=\u001b[0m \u001b[0mnp\u001b[0m\u001b[0;34m.\u001b[0m\u001b[0marange\u001b[0m\u001b[0;34m(\u001b[0m\u001b[0mlen\u001b[0m\u001b[0;34m(\u001b[0m\u001b[0mself\u001b[0m\u001b[0;34m.\u001b[0m\u001b[0mitems\u001b[0m\u001b[0;34m)\u001b[0m\u001b[0;34m)\u001b[0m\u001b[0;34m[\u001b[0m\u001b[0misnull\u001b[0m\u001b[0;34m(\u001b[0m\u001b[0mself\u001b[0m\u001b[0;34m.\u001b[0m\u001b[0mitems\u001b[0m\u001b[0;34m)\u001b[0m\u001b[0;34m]\u001b[0m\u001b[0;34m\u001b[0m\u001b[0m\n",
      "\u001b[0;32m/usr/local/lib/python2.7/dist-packages/pandas-0.16.0-py2.7-linux-x86_64.egg/pandas/core/index.pyc\u001b[0m in \u001b[0;36mget_loc\u001b[0;34m(self, key, method)\u001b[0m\n\u001b[1;32m   1435\u001b[0m         \"\"\"\n\u001b[1;32m   1436\u001b[0m         \u001b[0;32mif\u001b[0m \u001b[0mmethod\u001b[0m \u001b[0;32mis\u001b[0m \u001b[0mNone\u001b[0m\u001b[0;34m:\u001b[0m\u001b[0;34m\u001b[0m\u001b[0m\n\u001b[0;32m-> 1437\u001b[0;31m             \u001b[0;32mreturn\u001b[0m \u001b[0mself\u001b[0m\u001b[0;34m.\u001b[0m\u001b[0m_engine\u001b[0m\u001b[0;34m.\u001b[0m\u001b[0mget_loc\u001b[0m\u001b[0;34m(\u001b[0m\u001b[0m_values_from_object\u001b[0m\u001b[0;34m(\u001b[0m\u001b[0mkey\u001b[0m\u001b[0;34m)\u001b[0m\u001b[0;34m)\u001b[0m\u001b[0;34m\u001b[0m\u001b[0m\n\u001b[0m\u001b[1;32m   1438\u001b[0m \u001b[0;34m\u001b[0m\u001b[0m\n\u001b[1;32m   1439\u001b[0m         \u001b[0mindexer\u001b[0m \u001b[0;34m=\u001b[0m \u001b[0mself\u001b[0m\u001b[0;34m.\u001b[0m\u001b[0mget_indexer\u001b[0m\u001b[0;34m(\u001b[0m\u001b[0;34m[\u001b[0m\u001b[0mkey\u001b[0m\u001b[0;34m]\u001b[0m\u001b[0;34m,\u001b[0m \u001b[0mmethod\u001b[0m\u001b[0;34m=\u001b[0m\u001b[0mmethod\u001b[0m\u001b[0;34m)\u001b[0m\u001b[0;34m\u001b[0m\u001b[0m\n",
      "\u001b[0;32m/usr/local/lib/python2.7/dist-packages/pandas-0.16.0-py2.7-linux-x86_64.egg/pandas/index.so\u001b[0m in \u001b[0;36mpandas.index.IndexEngine.get_loc (pandas/index.c:3824)\u001b[0;34m()\u001b[0m\n",
      "\u001b[0;32m/usr/local/lib/python2.7/dist-packages/pandas-0.16.0-py2.7-linux-x86_64.egg/pandas/index.so\u001b[0m in \u001b[0;36mpandas.index.IndexEngine.get_loc (pandas/index.c:3704)\u001b[0;34m()\u001b[0m\n",
      "\u001b[0;32m/usr/local/lib/python2.7/dist-packages/pandas-0.16.0-py2.7-linux-x86_64.egg/pandas/hashtable.so\u001b[0m in \u001b[0;36mpandas.hashtable.PyObjectHashTable.get_item (pandas/hashtable.c:12349)\u001b[0;34m()\u001b[0m\n",
      "\u001b[0;32m/usr/local/lib/python2.7/dist-packages/pandas-0.16.0-py2.7-linux-x86_64.egg/pandas/hashtable.so\u001b[0m in \u001b[0;36mpandas.hashtable.PyObjectHashTable.get_item (pandas/hashtable.c:12300)\u001b[0;34m()\u001b[0m\n",
      "\u001b[0;31mKeyError\u001b[0m: 'pos'"
     ]
    }
   ],
   "source": [
    "res2\n",
    "y=res.sort('pos')\n",
    "x=res2.sort('pos')\n",
    "f,ax=plt.subplots(figsize=(6,6))\n",
    "ax.scatter(x['1-log50k(aff)'],y.score,c='seagreen')\n",
    "ax.set_xlabel('netmhciipan')\n",
    "ax.set_ylabel('sklearn')\n",
    "#diagonal(ax)"
   ]
  },
  {
   "cell_type": "code",
   "execution_count": 4,
   "metadata": {
    "collapsed": false
   },
   "outputs": [
    {
     "name": "stdout",
     "output_type": "stream",
     "text": [
      "[2, 1, 0, 2]\n",
      "run 1\n",
      "ACCATGACAG [ 0.10200364  0.08925319  0.15300546  0.6557377 ]\n",
      "GAGTATACCT [ 0.6191052   0.34824667  0.02176542  0.01088271]\n",
      "CATGCTTACT [ 0.13953488  0.74418605  0.04651163  0.06976744]\n",
      "CGGAATGCAT [ 0.75889328  0.06324111  0.11857708  0.05928854]\n",
      "ACC\u001b[31;1mATGACAG\u001b[0m\n",
      "\u001b[31;1mGAGTATA\u001b[0mCCT\n",
      "C\u001b[31;1mATGCTTA\u001b[0mCT\n",
      "CG\u001b[31;1mGAATGCA\u001b[0mT\n",
      "run 2\n",
      "ACCATGACAG [ 0.11748252  0.08951049  0.7048951   0.08811189]\n",
      "GAGTATACCT [ 0.10718114  0.67524116  0.0375134   0.18006431]\n",
      "CATGCTTACT [ 0.01102362  0.1511811   0.79370079  0.04409449]\n",
      "CGGAATGCAT [ 0.16695652  0.66782609  0.02608696  0.13913043]\n",
      "\u001b[31;1mACCATGA\u001b[0mCAG\n",
      "G\u001b[31;1mAGTATAC\u001b[0mCT\n",
      "C\u001b[31;1mATGCTTA\u001b[0mCT\n",
      "\u001b[31;1mCGGAATG\u001b[0mCAT\n",
      "run 3\n",
      "ACCATGACAG [ 0.47120419  0.03141361  0.07853403  0.41884817]\n",
      "GAGTATACCT [ 0.19111202  0.73387015  0.0652329   0.00978494]\n",
      "CATGCTTACT [ 0.01102362  0.1511811   0.79370079  0.04409449]\n",
      "CGGAATGCAT [ 0.03643725  0.87449393  0.01619433  0.07287449]\n",
      "\u001b[31;1mACCATGA\u001b[0mCAG\n",
      "G\u001b[31;1mAGTATAC\u001b[0mCT\n",
      "CA\u001b[31;1mTGCTTAC\u001b[0mT\n",
      "C\u001b[31;1mGGAATGC\u001b[0mAT\n",
      "run 4\n",
      "ACCATGACAG [ 0.18079096  0.05084746  0.54237288  0.2259887 ]\n",
      "GAGTATACCT [ 0.53075328  0.05160101  0.40635798  0.01128772]\n",
      "CATGCTTACT [ 0.08713693  0.09958506  0.11618257  0.69709544]\n",
      "CGGAATGCAT [ 0.07649159  0.03824579  0.85670576  0.02855686]\n",
      "A\u001b[31;1mCCATGAC\u001b[0mAG\n",
      "\u001b[31;1mGAGTATA\u001b[0mCCT\n",
      "CAT\u001b[31;1mGCTTACT\u001b[0m\n",
      "CG\u001b[31;1mGAATGCA\u001b[0mT\n"
     ]
    }
   ],
   "source": [
    "#gibbs sampling for mhc motif\n",
    "#see  E. Rouchka, “A Brief Overview of Gibbs Sampling” 2008\n",
    "\n",
    "S = ['ACCATGACAG','GAGTATACCT','CATGCTTACT','CGGAATGCAT']\n",
    "codes = ['A','T','G','C']\n",
    "#S = list(df['SEQ_SEQUENCE'].values[:100])\n",
    "\n",
    "import random\n",
    "def getSubSeqs(x, idxs):    \n",
    "    seqs = [i[j:j+w] for i,j in zip(x,idxs)]\n",
    "    return seqs\n",
    "\n",
    "def getcountmatrix(a):\n",
    "    #create freq matrix from seqs\n",
    "    m = [[r.str.contains(c).sum() for c in codes] for i,r in a.T.iterrows()]    \n",
    "    m = pd.DataFrame(m,columns=codes)\n",
    "    return m.T\n",
    "\n",
    "#print motifs\n",
    "def printmotifs(S,idxs):\n",
    "    for s,i in zip(S,idxs)[:10]:   \n",
    "        x1=s[0:i]; x2=s[i+w:l]\n",
    "        m=s[i:i+w]\n",
    "        print(\"%s\\x1b[31;1m%s\\x1b[0m%s\" %(x1,m,x2))\n",
    "        \n",
    "w=7\n",
    "l=10\n",
    "N=len(S)\n",
    "B=4.0\n",
    "\n",
    "#initialise motif positions randomly\n",
    "idxs = [random.choice(xrange(l-w)) for s in S]\n",
    "print idxs[:10]\n",
    "run=1\n",
    "for run in range(1,5):\n",
    "    print 'run', run\n",
    "    for seq in S:    \n",
    "        ind = S.index(seq)        \n",
    "        #print seq\n",
    "        X=S[:]\n",
    "        del X[ind]\n",
    "        xdf = pd.DataFrame([list(s) for s in X])\n",
    "        \n",
    "        #get residue counts\n",
    "        sub = getSubSeqs(X, idxs)\n",
    "        sub = pd.DataFrame([list(s) for s in sub])\n",
    "        c = getcountmatrix(sub)\n",
    "        #print c    \n",
    "\n",
    "        #get background counts by masking xdf\n",
    "        bg = []\n",
    "        for i,r in xdf.iterrows():\n",
    "            j=idxs[i]\n",
    "            x = r[range(0,j)+range(j+w,l)]\n",
    "            bg.append(x)\n",
    "        bg = pd.DataFrame(bg)\n",
    "        #print bg\n",
    "        cb = getcountmatrix(bg)\n",
    "        cb = cb.sum(1)\n",
    "        #print cb\n",
    "\n",
    "        #predictive update step\n",
    "        #get probability tables for current motifs\n",
    "        p = c.apply(lambda x: (x+1.0)/(N-1+B),1)     \n",
    "        pb = cb.apply(lambda x: (x+1.0)/(x.sum()+B),1)\n",
    "        p['bg'] = pb\n",
    "        #print p\n",
    "\n",
    "        #sampling step\n",
    "        #get a weight for each motif in current sequence\n",
    "        a=np.empty(l-w+1)\n",
    "        for i in range(0,l-w+1):\n",
    "            s = list(seq[i:i+w])\n",
    "            #print s, i\n",
    "            pi = [p.ix[s[j]][j] for j in range(len(s))]        \n",
    "            p0 = [pb.ix[s[j]] for j in range(len(s))]\n",
    "            a[i] = np.array(pi).prod()/np.array(p0).prod()\n",
    "        a = a/a.sum()\n",
    "        if ind<4:\n",
    "            print seq, a\n",
    "        #use weights to update motif for this sequence \n",
    "        new = np.random.choice(range(0,l-w+1), p=a)\n",
    "        idxs[ind] = new\n",
    "        #randomise remaining motifs again?\n",
    "        #for i in range(ind+1,len(S)):\n",
    "            #idxs[i] = random.choice(xrange(l-w))\n",
    "        #print idxs[:20]\n",
    "    #get alignment log-likelihood\n",
    "    #F = \n",
    "    printmotifs(S,idxs)\n",
    "    run+=1\n"
   ]
  },
  {
   "cell_type": "code",
   "execution_count": 12,
   "metadata": {
    "collapsed": false
   },
   "outputs": [
    {
     "ename": "RuntimeError",
     "evalue": "Unrecoverable error : Ghostscript conversion failed (Invalid postscript?). /usr/bin/gs -sDEVICE=png16m -dPDFSETTINGS=/printer -sstdout=%stderr -sOutputFile=- -dDEVICEWIDTHPOINTS=152 -dDEVICEHEIGHTPOINTS=80 -dSAFER -dNOPAUSE -r96.0 -dGraphicsAlphaBits=4 -dTextAlphaBits=4 -dAlignToPixels=0 -\nReturn code: 255\nGPL Ghostscript 9.10 (2013-08-30)\nCopyright (C) 2013 Artifex Software, Inc.  All rights reserved.\nThis software comes with NO WARRANTY: see the file PUBLIC for details.\nGPL Ghostscript 9.10: Set UseCIEColor for UseDeviceIndependentColor to work properly.\nUnrecoverable error: stackunderflow in .setdistillerparams\n",
     "output_type": "error",
     "traceback": [
      "\u001b[0;31m---------------------------------------------------------------------------\u001b[0m\n\u001b[0;31mRuntimeError\u001b[0m                              Traceback (most recent call last)",
      "\u001b[0;32m<ipython-input-12-eb9e80f41c98>\u001b[0m in \u001b[0;36m<module>\u001b[0;34m()\u001b[0m\n\u001b[1;32m      7\u001b[0m \u001b[0mformat\u001b[0m \u001b[0;34m=\u001b[0m \u001b[0mwl\u001b[0m\u001b[0;34m.\u001b[0m\u001b[0mLogoFormat\u001b[0m\u001b[0;34m(\u001b[0m\u001b[0mdata\u001b[0m\u001b[0;34m,\u001b[0m \u001b[0moptions\u001b[0m\u001b[0;34m)\u001b[0m\u001b[0;34m\u001b[0m\u001b[0m\n\u001b[1;32m      8\u001b[0m \u001b[0mfout\u001b[0m \u001b[0;34m=\u001b[0m \u001b[0mopen\u001b[0m\u001b[0;34m(\u001b[0m\u001b[0;34m'logo.png'\u001b[0m\u001b[0;34m,\u001b[0m \u001b[0;34m'w'\u001b[0m\u001b[0;34m)\u001b[0m\u001b[0;34m\u001b[0m\u001b[0m\n\u001b[0;32m----> 9\u001b[0;31m \u001b[0mwl\u001b[0m\u001b[0;34m.\u001b[0m\u001b[0mpng_formatter\u001b[0m\u001b[0;34m(\u001b[0m \u001b[0mdata\u001b[0m\u001b[0;34m,\u001b[0m \u001b[0mformat\u001b[0m\u001b[0;34m,\u001b[0m \u001b[0mfout\u001b[0m\u001b[0;34m)\u001b[0m\u001b[0;34m\u001b[0m\u001b[0m\n\u001b[0m",
      "\u001b[0;32m/usr/local/lib/python2.7/dist-packages/weblogo-3.3-py2.7.egg/weblogolib/__init__.pyc\u001b[0m in \u001b[0;36mpng_formatter\u001b[0;34m(data, format, fout)\u001b[0m\n\u001b[1;32m    766\u001b[0m \u001b[0;32mdef\u001b[0m \u001b[0mpng_formatter\u001b[0m\u001b[0;34m(\u001b[0m\u001b[0mdata\u001b[0m\u001b[0;34m,\u001b[0m \u001b[0mformat\u001b[0m\u001b[0;34m,\u001b[0m \u001b[0mfout\u001b[0m\u001b[0;34m)\u001b[0m \u001b[0;34m:\u001b[0m\u001b[0;34m\u001b[0m\u001b[0m\n\u001b[1;32m    767\u001b[0m     \u001b[0;34m\"\"\" Generate a logo in PNG format.\"\"\"\u001b[0m\u001b[0;34m\u001b[0m\u001b[0m\n\u001b[0;32m--> 768\u001b[0;31m     \u001b[0m_bitmap_formatter\u001b[0m\u001b[0;34m(\u001b[0m\u001b[0mdata\u001b[0m\u001b[0;34m,\u001b[0m \u001b[0mformat\u001b[0m\u001b[0;34m,\u001b[0m \u001b[0mfout\u001b[0m\u001b[0;34m,\u001b[0m \u001b[0mdevice\u001b[0m\u001b[0;34m=\u001b[0m\u001b[0;34m\"png\"\u001b[0m\u001b[0;34m)\u001b[0m\u001b[0;34m\u001b[0m\u001b[0m\n\u001b[0m\u001b[1;32m    769\u001b[0m \u001b[0;34m\u001b[0m\u001b[0m\n\u001b[1;32m    770\u001b[0m \u001b[0;34m\u001b[0m\u001b[0m\n",
      "\u001b[0;32m/usr/local/lib/python2.7/dist-packages/weblogo-3.3-py2.7.egg/weblogolib/__init__.pyc\u001b[0m in \u001b[0;36m_bitmap_formatter\u001b[0;34m(data, format, fout, device)\u001b[0m\n\u001b[1;32m    722\u001b[0m     \u001b[0mgs\u001b[0m \u001b[0;34m=\u001b[0m \u001b[0mGhostscriptAPI\u001b[0m\u001b[0;34m(\u001b[0m\u001b[0;34m)\u001b[0m\u001b[0;34m\u001b[0m\u001b[0m\n\u001b[1;32m    723\u001b[0m     gs.convert(device, feps, fout, \n\u001b[0;32m--> 724\u001b[0;31m         format.logo_width, format.logo_height, format.resolution)\n\u001b[0m\u001b[1;32m    725\u001b[0m \u001b[0;34m\u001b[0m\u001b[0m\n\u001b[1;32m    726\u001b[0m \u001b[0;34m\u001b[0m\u001b[0m\n",
      "\u001b[0;32m/usr/local/lib/python2.7/dist-packages/weblogo-3.3-py2.7.egg/weblogolib/__init__.pyc\u001b[0m in \u001b[0;36mconvert\u001b[0;34m(self, format, fin, fout, width, height, resolution)\u001b[0m\n\u001b[1;32m    239\u001b[0m             \u001b[0merror_msg\u001b[0m \u001b[0;34m+=\u001b[0m \u001b[0;34m'\\nReturn code: %i\\n'\u001b[0m \u001b[0;34m%\u001b[0m \u001b[0mp\u001b[0m\u001b[0;34m.\u001b[0m\u001b[0mreturncode\u001b[0m\u001b[0;34m\u001b[0m\u001b[0m\n\u001b[1;32m    240\u001b[0m             \u001b[0;32mif\u001b[0m \u001b[0merr\u001b[0m \u001b[0;32mis\u001b[0m \u001b[0;32mnot\u001b[0m \u001b[0mNone\u001b[0m \u001b[0;34m:\u001b[0m \u001b[0merror_msg\u001b[0m \u001b[0;34m+=\u001b[0m \u001b[0merr\u001b[0m\u001b[0;34m\u001b[0m\u001b[0m\n\u001b[0;32m--> 241\u001b[0;31m             \u001b[0;32mraise\u001b[0m \u001b[0mRuntimeError\u001b[0m\u001b[0;34m(\u001b[0m\u001b[0merror_msg\u001b[0m\u001b[0;34m)\u001b[0m\u001b[0;34m\u001b[0m\u001b[0m\n\u001b[0m\u001b[1;32m    242\u001b[0m \u001b[0;34m\u001b[0m\u001b[0m\n\u001b[1;32m    243\u001b[0m         \u001b[0;32mprint\u001b[0m \u001b[0;34m>>\u001b[0m\u001b[0mfout\u001b[0m\u001b[0;34m,\u001b[0m \u001b[0mout\u001b[0m\u001b[0;34m\u001b[0m\u001b[0m\n",
      "\u001b[0;31mRuntimeError\u001b[0m: Unrecoverable error : Ghostscript conversion failed (Invalid postscript?). /usr/bin/gs -sDEVICE=png16m -dPDFSETTINGS=/printer -sstdout=%stderr -sOutputFile=- -dDEVICEWIDTHPOINTS=152 -dDEVICEHEIGHTPOINTS=80 -dSAFER -dNOPAUSE -r96.0 -dGraphicsAlphaBits=4 -dTextAlphaBits=4 -dAlignToPixels=0 -\nReturn code: 255\nGPL Ghostscript 9.10 (2013-08-30)\nCopyright (C) 2013 Artifex Software, Inc.  All rights reserved.\nThis software comes with NO WARRANTY: see the file PUBLIC for details.\nGPL Ghostscript 9.10: Set UseCIEColor for UseDeviceIndependentColor to work properly.\nUnrecoverable error: stackunderflow in .setdistillerparams\n"
     ]
    }
   ],
   "source": [
    "import weblogolib as wl\n",
    "fin = open('align.fa') \n",
    "seqs = wl.read_seq_data(fin)  \n",
    "data = wl.LogoData.from_seqs(seqs) \n",
    "options = wl.LogoOptions() \n",
    "options.title = \"test\"\n",
    "format = wl.LogoFormat(data, options) \n",
    "fout = open('logo.png', 'w')\n",
    "wl.png_formatter( data, format, fout) \n"
   ]
  },
  {
   "cell_type": "code",
   "execution_count": null,
   "metadata": {
    "collapsed": false
   },
   "outputs": [],
   "source": []
  }
 ],
 "metadata": {
  "kernelspec": {
   "display_name": "Python 2",
   "language": "python",
   "name": "python2"
  },
  "language_info": {
   "codemirror_mode": {
    "name": "ipython",
    "version": 2
   },
   "file_extension": ".py",
   "mimetype": "text/x-python",
   "name": "python",
   "nbconvert_exporter": "python",
   "pygments_lexer": "ipython2",
   "version": "2.7.9"
  }
 },
 "nbformat": 4,
 "nbformat_minor": 0
}
